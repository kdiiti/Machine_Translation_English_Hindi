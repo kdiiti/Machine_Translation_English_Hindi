{
  "cells": [
    {
      "cell_type": "markdown",
      "metadata": {
        "id": "Mhy7_KPJsnfL"
      },
      "source": [
        "English to Hindi Machine Translation"
      ]
    },
    {
      "cell_type": "code",
      "execution_count": null,
      "metadata": {
        "execution": {
          "iopub.execute_input": "2024-04-13T17:15:41.247265Z",
          "iopub.status.busy": "2024-04-13T17:15:41.246574Z",
          "iopub.status.idle": "2024-04-13T17:15:44.858194Z",
          "shell.execute_reply": "2024-04-13T17:15:44.857237Z",
          "shell.execute_reply.started": "2024-04-13T17:15:41.247230Z"
        },
        "id": "hVtzk3DOi0Ci",
        "trusted": true
      },
      "outputs": [],
      "source": [
        "import math\n",
        "\n",
        "import torch\n",
        "import torch.nn as nn\n",
        "import torch.nn.functional as F\n",
        "from torch.utils.data import dataset\n",
        "\n",
        "import numpy as np\n",
        "import matplotlib.pyplot as plt"
      ]
    },
    {
      "cell_type": "code",
      "execution_count": null,
      "metadata": {
        "execution": {
          "iopub.execute_input": "2024-04-13T17:15:44.860320Z",
          "iopub.status.busy": "2024-04-13T17:15:44.859904Z",
          "iopub.status.idle": "2024-04-13T17:15:48.287890Z",
          "shell.execute_reply": "2024-04-13T17:15:48.286794Z",
          "shell.execute_reply.started": "2024-04-13T17:15:44.860292Z"
        },
        "trusted": true,
        "colab": {
          "referenced_widgets": [
            "852232c0db924e2c9fd3c74ee4c2118b",
            "2cb699fbdec842a49fb261a27d4ab554",
            "ae3d5aa953f74cde8535edde66169318",
            "58e04692518b430c83f1f768138e6e02",
            "16d39735910341cd839b14bff6338368"
          ]
        },
        "id": "0DQRFqRlheQu",
        "outputId": "b17500f9-c761-405d-bb18-289476c4a769"
      },
      "outputs": [
        {
          "data": {
            "application/vnd.jupyter.widget-view+json": {
              "model_id": "852232c0db924e2c9fd3c74ee4c2118b",
              "version_major": 2,
              "version_minor": 0
            },
            "text/plain": [
              "tokenizer_config.json:   0%|          | 0.00/44.0 [00:00<?, ?B/s]"
            ]
          },
          "metadata": {},
          "output_type": "display_data"
        },
        {
          "data": {
            "application/vnd.jupyter.widget-view+json": {
              "model_id": "2cb699fbdec842a49fb261a27d4ab554",
              "version_major": 2,
              "version_minor": 0
            },
            "text/plain": [
              "config.json:   0%|          | 0.00/1.39k [00:00<?, ?B/s]"
            ]
          },
          "metadata": {},
          "output_type": "display_data"
        },
        {
          "data": {
            "application/vnd.jupyter.widget-view+json": {
              "model_id": "ae3d5aa953f74cde8535edde66169318",
              "version_major": 2,
              "version_minor": 0
            },
            "text/plain": [
              "source.spm:   0%|          | 0.00/812k [00:00<?, ?B/s]"
            ]
          },
          "metadata": {},
          "output_type": "display_data"
        },
        {
          "data": {
            "application/vnd.jupyter.widget-view+json": {
              "model_id": "58e04692518b430c83f1f768138e6e02",
              "version_major": 2,
              "version_minor": 0
            },
            "text/plain": [
              "target.spm:   0%|          | 0.00/1.07M [00:00<?, ?B/s]"
            ]
          },
          "metadata": {},
          "output_type": "display_data"
        },
        {
          "data": {
            "application/vnd.jupyter.widget-view+json": {
              "model_id": "16d39735910341cd839b14bff6338368",
              "version_major": 2,
              "version_minor": 0
            },
            "text/plain": [
              "vocab.json:   0%|          | 0.00/2.10M [00:00<?, ?B/s]"
            ]
          },
          "metadata": {},
          "output_type": "display_data"
        },
        {
          "name": "stderr",
          "output_type": "stream",
          "text": [
            "/opt/conda/lib/python3.10/site-packages/transformers/models/marian/tokenization_marian.py:197: UserWarning: Recommended: pip install sacremoses.\n",
            "  warnings.warn(\"Recommended: pip install sacremoses.\")\n"
          ]
        }
      ],
      "source": [
        "from transformers import AutoTokenizer\n",
        "model_checkpoint = \"Helsinki-NLP/opus-mt-en-hi\"\n",
        "tokenizer = AutoTokenizer.from_pretrained(model_checkpoint)"
      ]
    },
    {
      "cell_type": "code",
      "execution_count": null,
      "metadata": {
        "execution": {
          "iopub.execute_input": "2024-04-13T17:15:48.289648Z",
          "iopub.status.busy": "2024-04-13T17:15:48.289222Z",
          "iopub.status.idle": "2024-04-13T17:15:48.294621Z",
          "shell.execute_reply": "2024-04-13T17:15:48.293283Z",
          "shell.execute_reply.started": "2024-04-13T17:15:48.289621Z"
        },
        "id": "IYL4BTAEXILE",
        "trusted": true
      },
      "outputs": [],
      "source": [
        "# from google.colab import drive\n",
        "# drive.mount('/content/drive')\n",
        "\n",
        "# !pip install pandas\n",
        "# !pip install transformers datasets sentencepiece #sacremoses\n",
        "# # !pip install -qU torchvision\n",
        "# !pip install matplotlib"
      ]
    },
    {
      "cell_type": "code",
      "execution_count": null,
      "metadata": {
        "execution": {
          "iopub.execute_input": "2024-04-13T17:15:48.297412Z",
          "iopub.status.busy": "2024-04-13T17:15:48.297087Z",
          "iopub.status.idle": "2024-04-13T17:15:48.312742Z",
          "shell.execute_reply": "2024-04-13T17:15:48.311662Z",
          "shell.execute_reply.started": "2024-04-13T17:15:48.297386Z"
        },
        "id": "J26lyxkpWbD4",
        "trusted": true
      },
      "outputs": [],
      "source": [
        "# file_path = 'Dataset_English_Hindi.csv'\n",
        "file_path = '/kaggle/input/hi-en-dataset/Dataset_English_Hindi_new.csv'"
      ]
    },
    {
      "cell_type": "code",
      "execution_count": null,
      "metadata": {
        "execution": {
          "iopub.execute_input": "2024-04-13T17:15:48.314153Z",
          "iopub.status.busy": "2024-04-13T17:15:48.313854Z",
          "iopub.status.idle": "2024-04-13T17:15:48.329191Z",
          "shell.execute_reply": "2024-04-13T17:15:48.328217Z",
          "shell.execute_reply.started": "2024-04-13T17:15:48.314127Z"
        },
        "id": "2Sb6J6qXi0Cl",
        "trusted": true
      },
      "outputs": [],
      "source": [
        "class MultiHeadAttention(nn.Module):\n",
        "    def __init__(self,d_k, d_model, n_heads,max_len,causal=False):\n",
        "        super().__init__()\n",
        "        #Assume d_v=d_k\n",
        "        self.d_k = d_k\n",
        "        self.n_heads = n_heads\n",
        "\n",
        "        self.key = nn.Linear(d_model, d_k * n_heads)\n",
        "        self.query = nn.Linear(d_model, d_k * n_heads)\n",
        "        self.value = nn.Linear(d_model, d_k * n_heads)\n",
        "\n",
        "        #Final linear layer\n",
        "        self.fc = nn.Linear(d_k * n_heads, d_model)\n",
        "\n",
        "        self.causal = causal\n",
        "        if causal:\n",
        "            cm = torch.tril(torch.ones(max_len,max_len))\n",
        "            self.register_buffer(\n",
        "                \"causal_mask\",\n",
        "                cm.view(1,1,max_len,max_len)\n",
        "            )\n",
        "\n",
        "    def forward(self, q,k,v,pad_mask=None):\n",
        "        q=self.query(q)\n",
        "        k=self.key(k)\n",
        "        v=self.value(v)\n",
        "\n",
        "        N= q.shape[0]\n",
        "        T_output = q.shape[1]\n",
        "        T_input = k.shape[1]\n",
        "\n",
        "        q=q.view(N,T_output,self.n_heads,self.d_k).transpose(1,2)\n",
        "        k=k.view(N,T_input,self.n_heads,self.d_k).transpose(1,2)\n",
        "        v=v.view(N,T_input,self.n_heads,self.d_k).transpose(1,2)\n",
        "\n",
        "        attn_scores =q @ k.transpose(-2,-1) / math.sqrt(self.d_k)\n",
        "        if pad_mask is not None:\n",
        "            attn_scores = attn_scores.masked_fill(\n",
        "                pad_mask[:,None,None,:] == 0, float('-inf'))\n",
        "\n",
        "        if self.causal:\n",
        "            attn_scores = attn_scores.masked_fill(\n",
        "                self.causal_mask[:,:,:T_output,:T_input] == 0, float('-inf'))\n",
        "        attn_weights = F.softmax(attn_scores, dim=-1)\n",
        "\n",
        "        A = attn_weights @ v\n",
        "        A = A.transpose(1,2)\n",
        "        A = A.contiguous().view(N,T_output,self.d_k*self.n_heads)\n",
        "\n",
        "        return self.fc(A)\n",
        "\n"
      ]
    },
    {
      "cell_type": "code",
      "execution_count": null,
      "metadata": {
        "execution": {
          "iopub.execute_input": "2024-04-13T17:15:48.331311Z",
          "iopub.status.busy": "2024-04-13T17:15:48.330410Z",
          "iopub.status.idle": "2024-04-13T17:15:48.342661Z",
          "shell.execute_reply": "2024-04-13T17:15:48.341768Z",
          "shell.execute_reply.started": "2024-04-13T17:15:48.331285Z"
        },
        "id": "MCntslzUi0Cn",
        "trusted": true
      },
      "outputs": [],
      "source": [
        "class EncoderBlock(nn.Module):\n",
        "    def __init__(self, d_k, d_model, n_heads, max_len, dropout_prob=0.1):\n",
        "        super().__init__()\n",
        "\n",
        "        self.ln1 = nn.LayerNorm(d_model)\n",
        "        self.ln2 = nn.LayerNorm(d_model)\n",
        "        self.mha = MultiHeadAttention(d_k,d_model,n_heads, max_len,causal=False)\n",
        "        self.ann = nn.Sequential(\n",
        "            nn.Linear(d_model,d_model*4),\n",
        "            nn.GELU(),\n",
        "            nn.Linear(d_model*4,d_model),\n",
        "            nn.Dropout(dropout_prob),\n",
        "        )\n",
        "        self.dropout = nn.Dropout(p=dropout_prob)\n",
        "\n",
        "    def forward(self,x,pad_mask=None):\n",
        "        x = self.ln1(x+self.mha(x,x,x,pad_mask))\n",
        "        x = self.ln2(x+self.ann(x))\n",
        "        x = self.dropout(x)\n",
        "        return x"
      ]
    },
    {
      "cell_type": "code",
      "execution_count": null,
      "metadata": {
        "execution": {
          "iopub.execute_input": "2024-04-13T17:15:48.345024Z",
          "iopub.status.busy": "2024-04-13T17:15:48.343787Z",
          "iopub.status.idle": "2024-04-13T17:15:48.358267Z",
          "shell.execute_reply": "2024-04-13T17:15:48.357133Z",
          "shell.execute_reply.started": "2024-04-13T17:15:48.344986Z"
        },
        "id": "zedMfCGNi0Co",
        "trusted": true
      },
      "outputs": [],
      "source": [
        "class DecoderBlock(nn.Module):\n",
        "    def __init__(self, d_k, d_model, n_heads, max_len, dropout_prob=0.1):\n",
        "        super().__init__()\n",
        "\n",
        "        self.ln1 = nn.LayerNorm(d_model)\n",
        "        self.ln2 = nn.LayerNorm(d_model)\n",
        "        self.ln3 = nn.LayerNorm(d_model)\n",
        "        self.mha1 = MultiHeadAttention(d_k,d_model,n_heads, max_len,causal=True)\n",
        "        self.mha2 = MultiHeadAttention(d_k,d_model,n_heads, max_len,causal=False)\n",
        "        self.ann = nn.Sequential(\n",
        "            nn.Linear(d_model,d_model*4),\n",
        "            nn.GELU(),\n",
        "            nn.Linear(d_model*4,d_model),\n",
        "            nn.Dropout(dropout_prob),\n",
        "        )\n",
        "        self.dropout = nn.Dropout(p=dropout_prob)\n",
        "\n",
        "    def forward(self,enc_output,dec_input,enc_mask=None, dec_mask=None):\n",
        "\n",
        "        x = self.ln1(\n",
        "            dec_input + self.mha1(dec_input,dec_input,dec_input,dec_mask))\n",
        "        #MHA inclusing encoder output\n",
        "        x = self.ln2(x + self.mha2(x,enc_output,enc_output,enc_mask))\n",
        "        x = self.ln3(x + self.ann(x))\n",
        "        x = self.dropout(x)\n",
        "        return x"
      ]
    },
    {
      "cell_type": "code",
      "execution_count": null,
      "metadata": {
        "execution": {
          "iopub.execute_input": "2024-04-13T17:15:48.359793Z",
          "iopub.status.busy": "2024-04-13T17:15:48.359471Z",
          "iopub.status.idle": "2024-04-13T17:15:48.368877Z",
          "shell.execute_reply": "2024-04-13T17:15:48.367951Z",
          "shell.execute_reply.started": "2024-04-13T17:15:48.359764Z"
        },
        "id": "CN1_NaRSi0Co",
        "trusted": true
      },
      "outputs": [],
      "source": [
        "class PositionalEncoding(nn.Module):\n",
        "    def __init__(self, d_model, max_len=2048,dropout_prob=0.1):\n",
        "        super().__init__()\n",
        "        self.dropout = nn.Dropout(p=dropout_prob)\n",
        "\n",
        "        position = torch.arange(max_len).unsqueeze(1)\n",
        "        exp_term = torch.arange(0,d_model,2)\n",
        "        div_term = torch.exp(exp_term*(-math.log(10000.0)/d_model))\n",
        "        pe = torch.zeros(1,max_len,d_model)\n",
        "        pe[0, : ,0::2] = torch.sin(position * div_term)\n",
        "        pe[0, : ,1::2] = torch.cos(position * div_term)\n",
        "        self.register_buffer('pe',pe)\n",
        "\n",
        "    def forward(self,x):\n",
        "        x=x + self.pe[:, :x.size(1), :]\n",
        "        return self.dropout(x)\n"
      ]
    },
    {
      "cell_type": "code",
      "execution_count": null,
      "metadata": {
        "execution": {
          "iopub.execute_input": "2024-04-13T17:15:48.370532Z",
          "iopub.status.busy": "2024-04-13T17:15:48.370013Z",
          "iopub.status.idle": "2024-04-13T17:15:48.384033Z",
          "shell.execute_reply": "2024-04-13T17:15:48.383173Z",
          "shell.execute_reply.started": "2024-04-13T17:15:48.370508Z"
        },
        "id": "eiUfOKU2i0Cp",
        "trusted": true
      },
      "outputs": [],
      "source": [
        "class Encoder(nn.Module):\n",
        "    def __init__(self,\n",
        "                 vocab_size,\n",
        "                 max_len,\n",
        "                 d_k,\n",
        "                 d_model,\n",
        "                 n_heads,\n",
        "                 n_layers,\n",
        "                # n_classes,\n",
        "                 dropout_prob):\n",
        "        super().__init__()\n",
        "\n",
        "        self.embedding = nn.Embedding(vocab_size,d_model)\n",
        "        self.pos_encoding = PositionalEncoding(d_model,max_len,dropout_prob)\n",
        "        transformer_blocks = [\n",
        "            EncoderBlock(\n",
        "                d_k,\n",
        "                d_model,\n",
        "                n_heads,\n",
        "                max_len,\n",
        "                dropout_prob) for _ in range(n_layers)]\n",
        "        self.transformer_blocks = nn.Sequential(*transformer_blocks)\n",
        "        self.ln = nn.LayerNorm(d_model)\n",
        "       # self.fc = nn.Linear(d_model,n_classes)\n",
        "\n",
        "    def forward (self, x, pad_mask=None):\n",
        "        x = self.embedding(x)\n",
        "        x = self.pos_encoding(x)\n",
        "        for block in self.transformer_blocks:\n",
        "            x = block(x,pad_mask)\n",
        "\n",
        "       # x = x[:,0,:]\n",
        "\n",
        "        x = self.ln(x)\n",
        "        #x = self.fc(x)\n",
        "        return x\n"
      ]
    },
    {
      "cell_type": "code",
      "execution_count": null,
      "metadata": {
        "execution": {
          "iopub.execute_input": "2024-04-13T17:15:48.388088Z",
          "iopub.status.busy": "2024-04-13T17:15:48.387788Z",
          "iopub.status.idle": "2024-04-13T17:15:48.398102Z",
          "shell.execute_reply": "2024-04-13T17:15:48.396993Z",
          "shell.execute_reply.started": "2024-04-13T17:15:48.388064Z"
        },
        "id": "IHrNsDIri0Cq",
        "trusted": true
      },
      "outputs": [],
      "source": [
        "class Decoder(nn.Module):\n",
        "    def __init__(self,\n",
        "                 vocab_size,\n",
        "                 max_len,\n",
        "                 d_k,\n",
        "                 d_model,\n",
        "                 n_heads,\n",
        "                 n_layers,\n",
        "                 dropout_prob):\n",
        "        super().__init__()\n",
        "\n",
        "        self.embedding = nn.Embedding(vocab_size,d_model)\n",
        "        self.pos_encoding = PositionalEncoding(d_model,max_len,dropout_prob)\n",
        "        transformer_blocks = [\n",
        "            DecoderBlock(\n",
        "                d_k,\n",
        "                d_model,\n",
        "                n_heads,\n",
        "                max_len,\n",
        "                dropout_prob) for _ in range(n_layers)]\n",
        "        self.transformer_blocks = nn.Sequential(*transformer_blocks)\n",
        "        self.ln = nn.LayerNorm(d_model)\n",
        "        self.fc = nn.Linear(d_model,vocab_size)\n",
        "\n",
        "    def forward (self,enc_output,dec_input,enc_mask=None,dec_mask=None):\n",
        "        x = self.embedding(dec_input)\n",
        "        x = self.pos_encoding(x)\n",
        "        for block in self.transformer_blocks:\n",
        "            x = block(enc_output,x,enc_mask,dec_mask)\n",
        "        x = self.ln(x)\n",
        "        x = self.fc(x)\n",
        "        return x\n"
      ]
    },
    {
      "cell_type": "code",
      "execution_count": null,
      "metadata": {
        "execution": {
          "iopub.execute_input": "2024-04-13T17:15:48.399688Z",
          "iopub.status.busy": "2024-04-13T17:15:48.399278Z",
          "iopub.status.idle": "2024-04-13T17:15:48.411903Z",
          "shell.execute_reply": "2024-04-13T17:15:48.411061Z",
          "shell.execute_reply.started": "2024-04-13T17:15:48.399648Z"
        },
        "id": "qRx0dQSdi0Cr",
        "trusted": true
      },
      "outputs": [],
      "source": [
        "class Transformer(nn.Module):\n",
        "    def __init__(self,encoder,decoder):\n",
        "        super().__init__()\n",
        "        self.encoder = encoder\n",
        "        self.decoder = decoder\n",
        "\n",
        "    def forward(self,enc_input, dec_input, enc_mask, dec_mask):\n",
        "        enc_output = self.encoder(enc_input,enc_mask)\n",
        "        dec_output = self.decoder(enc_output,dec_input,enc_mask,dec_mask)\n",
        "        return dec_output"
      ]
    },
    {
      "cell_type": "code",
      "execution_count": null,
      "metadata": {
        "execution": {
          "iopub.execute_input": "2024-04-13T17:15:48.413559Z",
          "iopub.status.busy": "2024-04-13T17:15:48.413188Z",
          "iopub.status.idle": "2024-04-13T17:15:48.571521Z",
          "shell.execute_reply": "2024-04-13T17:15:48.570410Z",
          "shell.execute_reply.started": "2024-04-13T17:15:48.413506Z"
        },
        "id": "m5A0diasi0Cr",
        "trusted": true
      },
      "outputs": [],
      "source": [
        "encoder = Encoder(\n",
        "    vocab_size=20_000,\n",
        "    max_len=512,\n",
        "    d_k=16,\n",
        "    d_model=64,\n",
        "    n_heads=4,\n",
        "    n_layers=2,\n",
        "    dropout_prob=0.1\n",
        ")\n",
        "\n",
        "decoder = Decoder(\n",
        "    vocab_size=10_000,\n",
        "    max_len=512,\n",
        "    d_k=16,\n",
        "    d_model=64,\n",
        "    n_heads=4,\n",
        "    n_layers=2,\n",
        "    dropout_prob=0.1\n",
        ")\n",
        "\n",
        "transformer = Transformer(encoder,decoder)"
      ]
    },
    {
      "cell_type": "code",
      "execution_count": null,
      "metadata": {
        "colab": {
          "base_uri": "https://localhost:8080/"
        },
        "execution": {
          "iopub.execute_input": "2024-04-13T17:15:48.573331Z",
          "iopub.status.busy": "2024-04-13T17:15:48.572997Z",
          "iopub.status.idle": "2024-04-13T17:15:48.764289Z",
          "shell.execute_reply": "2024-04-13T17:15:48.763334Z",
          "shell.execute_reply.started": "2024-04-13T17:15:48.573303Z"
        },
        "id": "K_zuwMvWi0Cs",
        "outputId": "251d5fc6-4ded-48c8-f95a-a5c7ed938569",
        "trusted": true
      },
      "outputs": [
        {
          "name": "stdout",
          "output_type": "stream",
          "text": [
            "cuda:0\n"
          ]
        },
        {
          "data": {
            "text/plain": [
              "Decoder(\n",
              "  (embedding): Embedding(10000, 64)\n",
              "  (pos_encoding): PositionalEncoding(\n",
              "    (dropout): Dropout(p=0.1, inplace=False)\n",
              "  )\n",
              "  (transformer_blocks): Sequential(\n",
              "    (0): DecoderBlock(\n",
              "      (ln1): LayerNorm((64,), eps=1e-05, elementwise_affine=True)\n",
              "      (ln2): LayerNorm((64,), eps=1e-05, elementwise_affine=True)\n",
              "      (ln3): LayerNorm((64,), eps=1e-05, elementwise_affine=True)\n",
              "      (mha1): MultiHeadAttention(\n",
              "        (key): Linear(in_features=64, out_features=64, bias=True)\n",
              "        (query): Linear(in_features=64, out_features=64, bias=True)\n",
              "        (value): Linear(in_features=64, out_features=64, bias=True)\n",
              "        (fc): Linear(in_features=64, out_features=64, bias=True)\n",
              "      )\n",
              "      (mha2): MultiHeadAttention(\n",
              "        (key): Linear(in_features=64, out_features=64, bias=True)\n",
              "        (query): Linear(in_features=64, out_features=64, bias=True)\n",
              "        (value): Linear(in_features=64, out_features=64, bias=True)\n",
              "        (fc): Linear(in_features=64, out_features=64, bias=True)\n",
              "      )\n",
              "      (ann): Sequential(\n",
              "        (0): Linear(in_features=64, out_features=256, bias=True)\n",
              "        (1): GELU(approximate='none')\n",
              "        (2): Linear(in_features=256, out_features=64, bias=True)\n",
              "        (3): Dropout(p=0.1, inplace=False)\n",
              "      )\n",
              "      (dropout): Dropout(p=0.1, inplace=False)\n",
              "    )\n",
              "    (1): DecoderBlock(\n",
              "      (ln1): LayerNorm((64,), eps=1e-05, elementwise_affine=True)\n",
              "      (ln2): LayerNorm((64,), eps=1e-05, elementwise_affine=True)\n",
              "      (ln3): LayerNorm((64,), eps=1e-05, elementwise_affine=True)\n",
              "      (mha1): MultiHeadAttention(\n",
              "        (key): Linear(in_features=64, out_features=64, bias=True)\n",
              "        (query): Linear(in_features=64, out_features=64, bias=True)\n",
              "        (value): Linear(in_features=64, out_features=64, bias=True)\n",
              "        (fc): Linear(in_features=64, out_features=64, bias=True)\n",
              "      )\n",
              "      (mha2): MultiHeadAttention(\n",
              "        (key): Linear(in_features=64, out_features=64, bias=True)\n",
              "        (query): Linear(in_features=64, out_features=64, bias=True)\n",
              "        (value): Linear(in_features=64, out_features=64, bias=True)\n",
              "        (fc): Linear(in_features=64, out_features=64, bias=True)\n",
              "      )\n",
              "      (ann): Sequential(\n",
              "        (0): Linear(in_features=64, out_features=256, bias=True)\n",
              "        (1): GELU(approximate='none')\n",
              "        (2): Linear(in_features=256, out_features=64, bias=True)\n",
              "        (3): Dropout(p=0.1, inplace=False)\n",
              "      )\n",
              "      (dropout): Dropout(p=0.1, inplace=False)\n",
              "    )\n",
              "  )\n",
              "  (ln): LayerNorm((64,), eps=1e-05, elementwise_affine=True)\n",
              "  (fc): Linear(in_features=64, out_features=10000, bias=True)\n",
              ")"
            ]
          },
          "execution_count": 13,
          "metadata": {},
          "output_type": "execute_result"
        }
      ],
      "source": [
        "device = torch.device(\"cuda:0\" if torch.cuda.is_available() else \"cpu\")\n",
        "print(device)\n",
        "encoder.to(device)\n",
        "decoder.to(device)\n"
      ]
    },
    {
      "cell_type": "code",
      "execution_count": null,
      "metadata": {
        "colab": {
          "base_uri": "https://localhost:8080/"
        },
        "execution": {
          "iopub.execute_input": "2024-04-13T17:15:48.765575Z",
          "iopub.status.busy": "2024-04-13T17:15:48.765298Z",
          "iopub.status.idle": "2024-04-13T17:15:49.504734Z",
          "shell.execute_reply": "2024-04-13T17:15:49.503780Z",
          "shell.execute_reply.started": "2024-04-13T17:15:48.765554Z"
        },
        "id": "nXUbbQ6Hi0Ct",
        "outputId": "d6dbc2f3-95dc-443a-85d7-2998853be96f",
        "trusted": true
      },
      "outputs": [
        {
          "data": {
            "text/plain": [
              "torch.Size([8, 256, 10000])"
            ]
          },
          "execution_count": 14,
          "metadata": {},
          "output_type": "execute_result"
        }
      ],
      "source": [
        "xe = np.random.randint(0,20_000,size=(8,512))\n",
        "xe_t = torch.tensor(xe).to(device)\n",
        "\n",
        "xd = np.random.randint(0,10_000,size=(8,256))\n",
        "xd_t = torch.tensor(xd).to(device)\n",
        "\n",
        "maske = np.ones((8,512))\n",
        "maske[:,256:] = 0\n",
        "maske_t = torch.tensor(maske).to(device)\n",
        "\n",
        "maskd = np.ones((8,256))\n",
        "maskd[:,128:] = 0\n",
        "maskd_t = torch.tensor(maskd).to(device)\n",
        "\n",
        "out = transformer(xe_t,xd_t,maske_t,maskd_t)\n",
        "out.shape\n"
      ]
    },
    {
      "cell_type": "code",
      "execution_count": null,
      "metadata": {
        "colab": {
          "base_uri": "https://localhost:8080/"
        },
        "execution": {
          "iopub.execute_input": "2024-04-13T17:15:49.506302Z",
          "iopub.status.busy": "2024-04-13T17:15:49.506003Z",
          "iopub.status.idle": "2024-04-13T17:15:49.726021Z",
          "shell.execute_reply": "2024-04-13T17:15:49.725010Z",
          "shell.execute_reply.started": "2024-04-13T17:15:49.506278Z"
        },
        "id": "TsKgTSRdi0Cu",
        "outputId": "78de35a8-a685-41df-c32a-cb98d3733eee",
        "trusted": true
      },
      "outputs": [
        {
          "data": {
            "text/plain": [
              "tensor([[[ 0.1596, -0.1098, -1.1206,  ..., -0.2964, -1.1945,  0.5427],\n",
              "         [-0.1700, -0.8695, -0.4522,  ..., -0.2257, -0.6337, -0.0173],\n",
              "         [ 0.1400,  0.3416, -0.2323,  ...,  0.6505,  0.1972,  0.6810],\n",
              "         ...,\n",
              "         [ 0.8121,  0.8171, -0.2462,  ..., -0.3110, -0.2752, -1.1337],\n",
              "         [ 0.4589, -0.3363, -0.9042,  ..., -0.4517, -1.2919,  0.0859],\n",
              "         [ 0.0511,  0.5722, -0.2062,  ...,  0.1535, -0.3495, -0.0922]],\n",
              "\n",
              "        [[ 0.0532, -0.3018, -0.4368,  ..., -0.0891, -0.4766,  0.1321],\n",
              "         [-0.3905, -0.1792, -0.1729,  ..., -0.5487, -1.3988, -0.1404],\n",
              "         [ 0.8613,  0.2950, -0.2652,  ..., -0.2193, -0.9727, -0.0623],\n",
              "         ...,\n",
              "         [ 0.0950, -0.0636, -0.5539,  ..., -0.3589, -0.6688,  1.6543],\n",
              "         [ 0.6173, -0.0767, -0.5181,  ...,  0.3933, -0.8661, -0.1873],\n",
              "         [-0.3922,  0.9883, -0.5247,  ...,  0.6861, -1.0218,  1.0023]],\n",
              "\n",
              "        [[-0.2075,  0.1944, -0.8772,  ..., -0.5914, -0.3050,  0.0079],\n",
              "         [-0.2455,  0.5779,  0.0396,  ...,  0.1197, -0.1094, -0.3981],\n",
              "         [ 0.5972,  0.1292, -0.2808,  ...,  0.1491,  0.2495,  0.3845],\n",
              "         ...,\n",
              "         [ 0.1116,  0.8462, -0.8401,  ..., -0.6236, -0.2810, -0.0027],\n",
              "         [-0.1628,  0.0017, -0.2219,  ...,  0.0911,  0.0667,  1.4068],\n",
              "         [-0.2463,  0.8519, -0.5452,  ..., -0.3635, -0.0094,  0.0980]],\n",
              "\n",
              "        ...,\n",
              "\n",
              "        [[ 0.0902, -0.3678, -1.2823,  ..., -0.1392,  0.5822, -0.1941],\n",
              "         [ 0.2420,  0.2560,  0.9810,  ..., -0.1805, -0.5496,  0.0953],\n",
              "         [ 0.5258,  0.7826,  0.2742,  ...,  0.0588,  0.7329,  0.8197],\n",
              "         ...,\n",
              "         [-0.5217, -0.2270, -0.3597,  ..., -0.6135, -1.2780,  0.0819],\n",
              "         [ 0.0602,  0.1182,  0.5302,  ..., -0.3530,  0.1565,  0.4543],\n",
              "         [ 0.1304,  0.2197, -0.7708,  ..., -0.3702, -0.4468,  0.5720]],\n",
              "\n",
              "        [[-0.5606,  0.3606, -0.2538,  ..., -0.3975, -0.6888,  0.7766],\n",
              "         [ 0.2976, -0.0505,  0.2372,  ...,  0.3527, -0.0504,  0.1133],\n",
              "         [ 0.5437,  0.0074, -0.1176,  ...,  0.6490,  0.9314, -0.4828],\n",
              "         ...,\n",
              "         [-0.4673,  0.4804,  0.1060,  ..., -0.1446, -0.0727,  0.0663],\n",
              "         [-0.5969,  0.4562, -0.6987,  ..., -0.6909, -0.6281,  0.7456],\n",
              "         [ 0.5366,  0.1301, -0.6371,  ..., -0.0248,  0.7111, -0.4785]],\n",
              "\n",
              "        [[-0.2955,  0.2168, -0.7297,  ..., -0.6729, -0.6787,  0.1863],\n",
              "         [-0.3436,  0.8182, -0.3919,  ...,  0.2930,  1.1147, -0.5882],\n",
              "         [ 0.7831,  0.6519, -0.4787,  ...,  0.2639, -0.0298,  0.5323],\n",
              "         ...,\n",
              "         [-0.1228,  0.6890, -0.1865,  ..., -0.8458, -0.0478, -1.1577],\n",
              "         [ 0.7384,  0.3012, -1.1419,  ..., -0.4027, -0.6161,  0.7489],\n",
              "         [-0.7749, -0.0788, -0.1108,  ..., -0.2733, -0.7384,  0.6768]]],\n",
              "       device='cuda:0', grad_fn=<ViewBackward0>)"
            ]
          },
          "execution_count": 15,
          "metadata": {},
          "output_type": "execute_result"
        }
      ],
      "source": [
        "out"
      ]
    },
    {
      "cell_type": "code",
      "execution_count": null,
      "metadata": {
        "execution": {
          "iopub.execute_input": "2024-04-13T17:15:49.727747Z",
          "iopub.status.busy": "2024-04-13T17:15:49.727387Z",
          "iopub.status.idle": "2024-04-13T17:15:51.917496Z",
          "shell.execute_reply": "2024-04-13T17:15:51.916300Z",
          "shell.execute_reply.started": "2024-04-13T17:15:49.727698Z"
        },
        "id": "NJ57ETaMi0Cw",
        "trusted": true
      },
      "outputs": [],
      "source": [
        "import pandas as pd\n",
        "df = pd.read_csv(file_path)\n",
        "df.head()"
      ]
    },
    {
      "cell_type": "code",
      "execution_count": null,
      "metadata": {
        "colab": {
          "base_uri": "https://localhost:8080/"
        },
        "execution": {
          "iopub.execute_input": "2024-04-13T17:15:51.921176Z",
          "iopub.status.busy": "2024-04-13T17:15:51.920720Z",
          "iopub.status.idle": "2024-04-13T17:15:51.928316Z",
          "shell.execute_reply": "2024-04-13T17:15:51.927075Z",
          "shell.execute_reply.started": "2024-04-13T17:15:51.921144Z"
        },
        "id": "zDRFJ7-Zi0Cx",
        "outputId": "eea011e9-7c5e-4222-8138-01f2ea0a26f0",
        "trusted": true
      },
      "outputs": [
        {
          "data": {
            "text/plain": [
              "(130476, 2)"
            ]
          },
          "execution_count": 17,
          "metadata": {},
          "output_type": "execute_result"
        }
      ],
      "source": [
        "df.shape"
      ]
    },
    {
      "cell_type": "code",
      "execution_count": null,
      "metadata": {
        "execution": {
          "iopub.execute_input": "2024-04-13T17:15:51.930241Z",
          "iopub.status.busy": "2024-04-13T17:15:51.929878Z",
          "iopub.status.idle": "2024-04-13T17:15:51.937965Z",
          "shell.execute_reply": "2024-04-13T17:15:51.936913Z",
          "shell.execute_reply.started": "2024-04-13T17:15:51.930211Z"
        },
        "id": "tJX_GeHyi0Cx",
        "trusted": true
      },
      "outputs": [],
      "source": [
        "df= df.iloc[:100000] #used full rows"
      ]
    },
    {
      "cell_type": "code",
      "execution_count": null,
      "metadata": {
        "execution": {
          "iopub.execute_input": "2024-04-13T17:15:51.940024Z",
          "iopub.status.busy": "2024-04-13T17:15:51.939644Z",
          "iopub.status.idle": "2024-04-13T17:15:52.955665Z",
          "shell.execute_reply": "2024-04-13T17:15:52.954778Z",
          "shell.execute_reply.started": "2024-04-13T17:15:51.939983Z"
        },
        "id": "Rbn0Owm6i0Cx",
        "trusted": true
      },
      "outputs": [],
      "source": [
        "#df = pd.read_csv(file_path)\n",
        "df.to_csv('hien.csv',index=None)\n"
      ]
    },
    {
      "cell_type": "code",
      "execution_count": null,
      "metadata": {
        "execution": {
          "iopub.execute_input": "2024-04-13T17:15:52.957231Z",
          "iopub.status.busy": "2024-04-13T17:15:52.956932Z",
          "iopub.status.idle": "2024-04-13T17:15:52.961267Z",
          "shell.execute_reply": "2024-04-13T17:15:52.960314Z",
          "shell.execute_reply.started": "2024-04-13T17:15:52.957206Z"
        },
        "id": "ihViAzmiWSTM",
        "tags": [],
        "trusted": true
      },
      "outputs": [],
      "source": [
        "#!head hien.csv"
      ]
    },
    {
      "cell_type": "code",
      "execution_count": null,
      "metadata": {
        "colab": {
          "base_uri": "https://localhost:8080/",
          "height": 49,
          "referenced_widgets": [
            "92016afec5c44045ae2591c5f9c3b5b9",
            "161df49abe3a400788923db27aebe8bb",
            "474d146655d047968bca92f221fc1334",
            "70efb02044b54f8883d5cd9a3eae95ac",
            "6005dded676d482799293ec7d2418876",
            "c3656ec94b0e4fd09af68d694d25b933",
            "49f2398333ab4d51a48d62783fa155a7",
            "d0b0b986d1b14f74af8af7b851b11fbc",
            "75a874c5d2db418d953d25f15c5eb662",
            "1fc4849cfac245019d1d434bdf95c892",
            "e3908355e55c426a9ca3254021e72a71",
            "b08eb6ea19af4299971942665d5aa731"
          ]
        },
        "execution": {
          "iopub.execute_input": "2024-04-13T17:15:52.962785Z",
          "iopub.status.busy": "2024-04-13T17:15:52.962471Z",
          "iopub.status.idle": "2024-04-13T17:15:55.004199Z",
          "shell.execute_reply": "2024-04-13T17:15:55.003082Z",
          "shell.execute_reply.started": "2024-04-13T17:15:52.962753Z"
        },
        "id": "t3pdNMX5i0Cy",
        "outputId": "54dfe6ed-c0a9-40fa-e75f-40f207362b54",
        "trusted": true
      },
      "outputs": [
        {
          "data": {
            "application/vnd.jupyter.widget-view+json": {
              "model_id": "b08eb6ea19af4299971942665d5aa731",
              "version_major": 2,
              "version_minor": 0
            },
            "text/plain": [
              "Generating train split: 0 examples [00:00, ? examples/s]"
            ]
          },
          "metadata": {},
          "output_type": "display_data"
        }
      ],
      "source": [
        "from datasets import load_dataset\n",
        "raw_dataset = load_dataset('csv',data_files='hien.csv')"
      ]
    },
    {
      "cell_type": "code",
      "execution_count": null,
      "metadata": {
        "colab": {
          "base_uri": "https://localhost:8080/"
        },
        "execution": {
          "iopub.execute_input": "2024-04-13T17:15:55.006300Z",
          "iopub.status.busy": "2024-04-13T17:15:55.005821Z",
          "iopub.status.idle": "2024-04-13T17:15:55.012970Z",
          "shell.execute_reply": "2024-04-13T17:15:55.011986Z",
          "shell.execute_reply.started": "2024-04-13T17:15:55.006270Z"
        },
        "id": "oqY4JzaBi0Cz",
        "outputId": "0df14359-ff4a-47e0-b50d-69c6420e45a5",
        "trusted": true
      },
      "outputs": [
        {
          "data": {
            "text/plain": [
              "DatasetDict({\n",
              "    train: Dataset({\n",
              "        features: ['English', 'Hindi'],\n",
              "        num_rows: 100000\n",
              "    })\n",
              "})"
            ]
          },
          "execution_count": 22,
          "metadata": {},
          "output_type": "execute_result"
        }
      ],
      "source": [
        "raw_dataset"
      ]
    },
    {
      "cell_type": "code",
      "execution_count": null,
      "metadata": {
        "colab": {
          "base_uri": "https://localhost:8080/"
        },
        "execution": {
          "iopub.execute_input": "2024-04-13T17:15:55.014430Z",
          "iopub.status.busy": "2024-04-13T17:15:55.014143Z",
          "iopub.status.idle": "2024-04-13T17:15:55.077335Z",
          "shell.execute_reply": "2024-04-13T17:15:55.076300Z",
          "shell.execute_reply.started": "2024-04-13T17:15:55.014405Z"
        },
        "id": "3BOHrvZdi0Cz",
        "outputId": "b00161e5-ca5c-4065-be23-ba4fa6edfe10",
        "trusted": true
      },
      "outputs": [
        {
          "data": {
            "text/plain": [
              "DatasetDict({\n",
              "    train: Dataset({\n",
              "        features: ['English', 'Hindi'],\n",
              "        num_rows: 70000\n",
              "    })\n",
              "    test: Dataset({\n",
              "        features: ['English', 'Hindi'],\n",
              "        num_rows: 30000\n",
              "    })\n",
              "})"
            ]
          },
          "execution_count": 23,
          "metadata": {},
          "output_type": "execute_result"
        }
      ],
      "source": [
        "split = raw_dataset['train'].train_test_split(test_size=0.3,seed=42)\n",
        "split"
      ]
    },
    {
      "cell_type": "code",
      "execution_count": null,
      "metadata": {
        "colab": {
          "base_uri": "https://localhost:8080/"
        },
        "execution": {
          "iopub.execute_input": "2024-04-13T17:15:55.079010Z",
          "iopub.status.busy": "2024-04-13T17:15:55.078665Z",
          "iopub.status.idle": "2024-04-13T17:15:55.095884Z",
          "shell.execute_reply": "2024-04-13T17:15:55.094788Z",
          "shell.execute_reply.started": "2024-04-13T17:15:55.078981Z"
        },
        "id": "YpKJidpqi0C0",
        "outputId": "2c33cdbd-b454-4d4d-e699-d48072b7a626",
        "trusted": true
      },
      "outputs": [
        {
          "data": {
            "text/plain": [
              "['▁इसके',\n",
              " '▁साथ',\n",
              " '▁ही',\n",
              " '▁उसे',\n",
              " '▁एक',\n",
              " '▁दंड',\n",
              " '▁धारण',\n",
              " '▁करने',\n",
              " '▁के',\n",
              " '▁लिए',\n",
              " '▁दिया',\n",
              " '▁जाता',\n",
              " '▁है',\n",
              " '▁और',\n",
              " '▁',\n",
              " '?',\n",
              " '▁',\n",
              " 'दर्भ',\n",
              " '▁',\n",
              " '?',\n",
              " '▁नामक',\n",
              " '▁विशेष',\n",
              " '▁घास',\n",
              " '▁की',\n",
              " '▁एक',\n",
              " '▁मुद्',\n",
              " 'रिका',\n",
              " '▁पहना',\n",
              " 'ई',\n",
              " '▁जाती',\n",
              " '▁है',\n",
              " '▁जो',\n",
              " '▁वह',\n",
              " '▁अपने',\n",
              " '▁दाहिने',\n",
              " '▁हाथ',\n",
              " '▁की',\n",
              " '▁अनाम',\n",
              " 'िका',\n",
              " '▁में',\n",
              " '▁पहनता',\n",
              " '▁है',\n",
              " '▁',\n",
              " '.',\n",
              " '</s>']"
            ]
          },
          "execution_count": 24,
          "metadata": {},
          "output_type": "execute_result"
        }
      ],
      "source": [
        "en_sentence = split[\"train\"][0][\"English\"]\n",
        "hi_sentence = split[\"train\"][0][\"Hindi\"]\n",
        "\n",
        "inputs = tokenizer(en_sentence)\n",
        "targets = tokenizer(text_target=hi_sentence)\n",
        "\n",
        "tokenizer.convert_ids_to_tokens(targets['input_ids'])"
      ]
    },
    {
      "cell_type": "code",
      "execution_count": null,
      "metadata": {
        "colab": {
          "base_uri": "https://localhost:8080/",
          "height": 35
        },
        "execution": {
          "iopub.execute_input": "2024-04-13T17:15:55.097302Z",
          "iopub.status.busy": "2024-04-13T17:15:55.097028Z",
          "iopub.status.idle": "2024-04-13T17:15:55.110066Z",
          "shell.execute_reply": "2024-04-13T17:15:55.108879Z",
          "shell.execute_reply.started": "2024-04-13T17:15:55.097278Z"
        },
        "id": "RoJEXQqki0C0",
        "outputId": "7c1c706f-b925-4d7b-ea8a-141cd23afe02",
        "trusted": true
      },
      "outputs": [
        {
          "data": {
            "text/plain": [
              "'इसके साथ ही उसे एक दंड धारण करने के लिए दिया जाता है और ? दर्भ ? नामक विशेष घास की एक मुद्रिका पहनाई जाती है जो वह अपने दाहिने हाथ की अनामिका में पहनता है .'"
            ]
          },
          "execution_count": 25,
          "metadata": {},
          "output_type": "execute_result"
        }
      ],
      "source": [
        "hi_sentence"
      ]
    },
    {
      "cell_type": "code",
      "execution_count": null,
      "metadata": {
        "execution": {
          "iopub.execute_input": "2024-04-13T17:15:55.111911Z",
          "iopub.status.busy": "2024-04-13T17:15:55.111497Z",
          "iopub.status.idle": "2024-04-13T17:15:55.118780Z",
          "shell.execute_reply": "2024-04-13T17:15:55.117886Z",
          "shell.execute_reply.started": "2024-04-13T17:15:55.111876Z"
        },
        "id": "uBvqDJ0Ni0C1",
        "trusted": true
      },
      "outputs": [],
      "source": [
        "max_input_length = 256\n",
        "max_target_length = 256\n"
      ]
    },
    {
      "cell_type": "code",
      "execution_count": null,
      "metadata": {
        "execution": {
          "iopub.execute_input": "2024-04-13T17:15:55.120123Z",
          "iopub.status.busy": "2024-04-13T17:15:55.119845Z",
          "iopub.status.idle": "2024-04-13T17:15:55.130399Z",
          "shell.execute_reply": "2024-04-13T17:15:55.129543Z",
          "shell.execute_reply.started": "2024-04-13T17:15:55.120100Z"
        },
        "id": "oD63Jz4qoogo",
        "trusted": true
      },
      "outputs": [],
      "source": [
        "def preprocess_function(batch):\n",
        "    # Ensure that the input is in string format\n",
        "    english_texts = [str(text) for text in batch['English']]\n",
        "    hindi_texts = [str(text) for text in batch['Hindi']]\n",
        "\n",
        "    # Tokenize the inputs\n",
        "    model_inputs = tokenizer(\n",
        "        english_texts,\n",
        "        max_length=max_input_length,\n",
        "        truncation=True,\n",
        "        padding='max_length',  # Add padding to ensure all sequences have the same length\n",
        "        return_tensors=\"pt\"    # Return PyTorch tensors\n",
        "    )\n",
        "\n",
        "    # Tokenize the labels/targets\n",
        "    labels = tokenizer(\n",
        "        hindi_texts,\n",
        "        max_length=max_target_length,\n",
        "        truncation=True,\n",
        "        padding='max_length',  # Add padding to ensure all sequences have the same length\n",
        "        return_tensors=\"pt\"    # Return PyTorch tensors\n",
        "    )\n",
        "\n",
        "    # Attach the labels to the model inputs\n",
        "    model_inputs[\"labels\"] = labels[\"input_ids\"]\n",
        "\n",
        "    return model_inputs\n"
      ]
    },
    {
      "cell_type": "code",
      "execution_count": null,
      "metadata": {
        "colab": {
          "base_uri": "https://localhost:8080/",
          "height": 81,
          "referenced_widgets": [
            "193c2ff27c7c416bbcb7f6c9165dcbbb",
            "6e5dabb005554005ad2aec3942a4907c",
            "68eb788e9a4746bbb7dd3cae6583f33b",
            "3da42d9d3aff414b8b8a3dfff4c28945",
            "780f379b7db646438e843e0d385d26e0",
            "c1709ba4876d4e758e8c50d770862d7c",
            "2a1e007f75cf403b96577a74ad1f666c",
            "324745e236c7424fb127794fa778b15e",
            "9a8c91246b6b476db597060831b2d0e8",
            "7be39a42f93d41f8a2285d4d81340848",
            "71908a70262d4ff3add3fe295c8c0091",
            "6e066e3f0e824732b016f6ff27728691",
            "77cbdeb4cd174ac0abcf9c1ac55a2c38",
            "ba38baf24c914345b2460d24d330faa0",
            "e59ccd53f55a4ab9ad038c8b71f037d2",
            "3cb9572928fa4bf491562997cf327813",
            "4535084b58604c2c891142d8c71622eb",
            "6519c09735ad49adb6adb9493eb146b3",
            "2c14d55c21204435ba903b33e063c692",
            "1625f034d0214dc190808be66e9a9735",
            "60938d33d21740b1955cd78559cc39a3",
            "c62c23d0cb784dd6928f4eb2d6ea5024",
            "d58bc8bdac5942ce8c679d881032c059",
            "6110fde540d44d07bb01f14befc80ca6"
          ]
        },
        "execution": {
          "iopub.execute_input": "2024-04-13T17:15:55.139149Z",
          "iopub.status.busy": "2024-04-13T17:15:55.138614Z",
          "iopub.status.idle": "2024-04-13T17:17:20.949879Z",
          "shell.execute_reply": "2024-04-13T17:17:20.948804Z",
          "shell.execute_reply.started": "2024-04-13T17:15:55.139118Z"
        },
        "id": "VTeaTH-7i0C1",
        "outputId": "212a0792-30e7-42dc-c66b-647202b0e256",
        "trusted": true
      },
      "outputs": [
        {
          "data": {
            "application/vnd.jupyter.widget-view+json": {
              "model_id": "d58bc8bdac5942ce8c679d881032c059",
              "version_major": 2,
              "version_minor": 0
            },
            "text/plain": [
              "Map:   0%|          | 0/70000 [00:00<?, ? examples/s]"
            ]
          },
          "metadata": {},
          "output_type": "display_data"
        },
        {
          "data": {
            "application/vnd.jupyter.widget-view+json": {
              "model_id": "6110fde540d44d07bb01f14befc80ca6",
              "version_major": 2,
              "version_minor": 0
            },
            "text/plain": [
              "Map:   0%|          | 0/30000 [00:00<?, ? examples/s]"
            ]
          },
          "metadata": {},
          "output_type": "display_data"
        }
      ],
      "source": [
        "tokenized_datasets = split.map(\n",
        "    preprocess_function,\n",
        "    batched=True,\n",
        "    remove_columns=split[\"train\"].column_names,\n",
        ")"
      ]
    },
    {
      "cell_type": "code",
      "execution_count": null,
      "metadata": {
        "colab": {
          "base_uri": "https://localhost:8080/"
        },
        "execution": {
          "iopub.execute_input": "2024-04-13T17:17:20.952344Z",
          "iopub.status.busy": "2024-04-13T17:17:20.952035Z",
          "iopub.status.idle": "2024-04-13T17:17:20.958421Z",
          "shell.execute_reply": "2024-04-13T17:17:20.957389Z",
          "shell.execute_reply.started": "2024-04-13T17:17:20.952318Z"
        },
        "id": "evCb-YB2i0C2",
        "outputId": "815fbd8f-7f67-4c44-d7ab-5ef4032085ea",
        "trusted": true
      },
      "outputs": [
        {
          "data": {
            "text/plain": [
              "DatasetDict({\n",
              "    train: Dataset({\n",
              "        features: ['input_ids', 'attention_mask', 'labels'],\n",
              "        num_rows: 70000\n",
              "    })\n",
              "    test: Dataset({\n",
              "        features: ['input_ids', 'attention_mask', 'labels'],\n",
              "        num_rows: 30000\n",
              "    })\n",
              "})"
            ]
          },
          "execution_count": 29,
          "metadata": {},
          "output_type": "execute_result"
        }
      ],
      "source": [
        "tokenized_datasets"
      ]
    },
    {
      "cell_type": "code",
      "execution_count": null,
      "metadata": {
        "execution": {
          "iopub.execute_input": "2024-04-13T17:17:20.960071Z",
          "iopub.status.busy": "2024-04-13T17:17:20.959678Z",
          "iopub.status.idle": "2024-04-13T17:17:32.889105Z",
          "shell.execute_reply": "2024-04-13T17:17:32.887930Z",
          "shell.execute_reply.started": "2024-04-13T17:17:20.960043Z"
        },
        "id": "yVWhYvmOi0C2",
        "trusted": true,
        "outputId": "a8d421ec-5b54-4fde-e69a-a1e5b98fea9f"
      },
      "outputs": [
        {
          "name": "stderr",
          "output_type": "stream",
          "text": [
            "2024-04-13 17:17:24.058174: E external/local_xla/xla/stream_executor/cuda/cuda_dnn.cc:9261] Unable to register cuDNN factory: Attempting to register factory for plugin cuDNN when one has already been registered\n",
            "2024-04-13 17:17:24.058320: E external/local_xla/xla/stream_executor/cuda/cuda_fft.cc:607] Unable to register cuFFT factory: Attempting to register factory for plugin cuFFT when one has already been registered\n",
            "2024-04-13 17:17:24.196716: E external/local_xla/xla/stream_executor/cuda/cuda_blas.cc:1515] Unable to register cuBLAS factory: Attempting to register factory for plugin cuBLAS when one has already been registered\n"
          ]
        }
      ],
      "source": [
        "from transformers import DataCollatorForSeq2Seq\n",
        "data_collator = DataCollatorForSeq2Seq(tokenizer)"
      ]
    },
    {
      "cell_type": "code",
      "execution_count": null,
      "metadata": {
        "colab": {
          "base_uri": "https://localhost:8080/"
        },
        "execution": {
          "iopub.execute_input": "2024-04-13T17:17:32.891610Z",
          "iopub.status.busy": "2024-04-13T17:17:32.890785Z",
          "iopub.status.idle": "2024-04-13T17:17:32.906208Z",
          "shell.execute_reply": "2024-04-13T17:17:32.905215Z",
          "shell.execute_reply.started": "2024-04-13T17:17:32.891568Z"
        },
        "id": "cZMMjcmri0C3",
        "outputId": "30354676-8e6e-4054-e1a9-3e318dbb8db8",
        "trusted": true
      },
      "outputs": [
        {
          "data": {
            "text/plain": [
              "dict_keys(['input_ids', 'attention_mask', 'labels'])"
            ]
          },
          "execution_count": 31,
          "metadata": {},
          "output_type": "execute_result"
        }
      ],
      "source": [
        "batch = data_collator([tokenized_datasets[\"train\"][i] for i in range(0,5)])\n",
        "batch.keys()"
      ]
    },
    {
      "cell_type": "code",
      "execution_count": null,
      "metadata": {
        "colab": {
          "base_uri": "https://localhost:8080/"
        },
        "execution": {
          "iopub.execute_input": "2024-04-13T17:17:32.907777Z",
          "iopub.status.busy": "2024-04-13T17:17:32.907451Z",
          "iopub.status.idle": "2024-04-13T17:17:32.931785Z",
          "shell.execute_reply": "2024-04-13T17:17:32.930781Z",
          "shell.execute_reply.started": "2024-04-13T17:17:32.907722Z"
        },
        "id": "Qgg-jNQHi0C3",
        "outputId": "7644f439-29ad-440e-9771-9ffee25c06f2",
        "trusted": true
      },
      "outputs": [
        {
          "data": {
            "text/plain": [
              "tensor([[ 8024,    44,     2,  ..., 61949, 61949, 61949],\n",
              "        [  285,     4, 20338,  ..., 61949, 61949, 61949],\n",
              "        [ 1089,  4718,    16,  ..., 61949, 61949, 61949],\n",
              "        [   81,   319,  1199,  ..., 61949, 61949, 61949],\n",
              "        [  211,   308,  2303,  ..., 61949, 61949, 61949]])"
            ]
          },
          "execution_count": 32,
          "metadata": {},
          "output_type": "execute_result"
        }
      ],
      "source": [
        "batch['input_ids']"
      ]
    },
    {
      "cell_type": "code",
      "execution_count": null,
      "metadata": {
        "colab": {
          "base_uri": "https://localhost:8080/"
        },
        "execution": {
          "iopub.execute_input": "2024-04-13T17:17:32.933375Z",
          "iopub.status.busy": "2024-04-13T17:17:32.932990Z",
          "iopub.status.idle": "2024-04-13T17:17:32.941837Z",
          "shell.execute_reply": "2024-04-13T17:17:32.940647Z",
          "shell.execute_reply.started": "2024-04-13T17:17:32.933340Z"
        },
        "id": "yk66p-dji0C4",
        "outputId": "dcb89f10-4f52-4cdc-97db-76f26724232b",
        "trusted": true
      },
      "outputs": [
        {
          "data": {
            "text/plain": [
              "tensor([[1, 1, 1,  ..., 0, 0, 0],\n",
              "        [1, 1, 1,  ..., 0, 0, 0],\n",
              "        [1, 1, 1,  ..., 0, 0, 0],\n",
              "        [1, 1, 1,  ..., 0, 0, 0],\n",
              "        [1, 1, 1,  ..., 0, 0, 0]])"
            ]
          },
          "execution_count": 33,
          "metadata": {},
          "output_type": "execute_result"
        }
      ],
      "source": [
        "batch['attention_mask']"
      ]
    },
    {
      "cell_type": "code",
      "execution_count": null,
      "metadata": {
        "colab": {
          "base_uri": "https://localhost:8080/"
        },
        "execution": {
          "iopub.execute_input": "2024-04-13T17:17:32.943203Z",
          "iopub.status.busy": "2024-04-13T17:17:32.942906Z",
          "iopub.status.idle": "2024-04-13T17:17:32.951619Z",
          "shell.execute_reply": "2024-04-13T17:17:32.950778Z",
          "shell.execute_reply.started": "2024-04-13T17:17:32.943180Z"
        },
        "id": "92id-0xni0C4",
        "outputId": "1a964841-ff21-40e0-a66f-b075dc5864ea",
        "trusted": true
      },
      "outputs": [
        {
          "data": {
            "text/plain": [
              "tensor([[   44,  7173,     1,  ..., 61949, 61949, 61949],\n",
              "        [   44,   680,   428,  ..., 61949, 61949, 61949],\n",
              "        [   44,  4499,  1400,  ..., 61949, 61949, 61949],\n",
              "        [   44, 35004,   800,  ..., 61949, 61949, 61949],\n",
              "        [   44,  3605,  2703,  ..., 61949, 61949, 61949]])"
            ]
          },
          "execution_count": 34,
          "metadata": {},
          "output_type": "execute_result"
        }
      ],
      "source": [
        "batch['labels']"
      ]
    },
    {
      "cell_type": "code",
      "execution_count": null,
      "metadata": {
        "colab": {
          "base_uri": "https://localhost:8080/"
        },
        "execution": {
          "iopub.execute_input": "2024-04-13T17:17:32.953274Z",
          "iopub.status.busy": "2024-04-13T17:17:32.952881Z",
          "iopub.status.idle": "2024-04-13T17:17:32.961888Z",
          "shell.execute_reply": "2024-04-13T17:17:32.960979Z",
          "shell.execute_reply.started": "2024-04-13T17:17:32.953241Z"
        },
        "id": "sNNea-nDi0C4",
        "outputId": "3fcf0443-c629-4e01-f1ff-dea14c2a79bc",
        "trusted": true
      },
      "outputs": [
        {
          "data": {
            "text/plain": [
              "[0, 1, 61949]"
            ]
          },
          "execution_count": 35,
          "metadata": {},
          "output_type": "execute_result"
        }
      ],
      "source": [
        "tokenizer.all_special_ids"
      ]
    },
    {
      "cell_type": "code",
      "execution_count": null,
      "metadata": {
        "colab": {
          "base_uri": "https://localhost:8080/"
        },
        "execution": {
          "iopub.execute_input": "2024-04-13T17:17:32.963355Z",
          "iopub.status.busy": "2024-04-13T17:17:32.963050Z",
          "iopub.status.idle": "2024-04-13T17:17:32.972464Z",
          "shell.execute_reply": "2024-04-13T17:17:32.971505Z",
          "shell.execute_reply.started": "2024-04-13T17:17:32.963330Z"
        },
        "id": "7IHFGsVEi0C5",
        "outputId": "b2d54590-2e1e-4bc1-e952-589de8efb758",
        "trusted": true
      },
      "outputs": [
        {
          "data": {
            "text/plain": [
              "['</s>', '<unk>', '<pad>']"
            ]
          },
          "execution_count": 36,
          "metadata": {},
          "output_type": "execute_result"
        }
      ],
      "source": [
        "tokenizer.all_special_tokens"
      ]
    },
    {
      "cell_type": "code",
      "execution_count": null,
      "metadata": {
        "colab": {
          "base_uri": "https://localhost:8080/"
        },
        "execution": {
          "iopub.execute_input": "2024-04-13T17:17:32.974256Z",
          "iopub.status.busy": "2024-04-13T17:17:32.973856Z",
          "iopub.status.idle": "2024-04-13T17:17:32.984628Z",
          "shell.execute_reply": "2024-04-13T17:17:32.983644Z",
          "shell.execute_reply.started": "2024-04-13T17:17:32.974223Z"
        },
        "id": "CXGbJDaDi0C5",
        "outputId": "40b38f4c-f564-4051-8cbd-866a5ce9413c",
        "trusted": true
      },
      "outputs": [
        {
          "data": {
            "text/plain": [
              "{'input_ids': [61949, 0], 'attention_mask': [1, 1]}"
            ]
          },
          "execution_count": 37,
          "metadata": {},
          "output_type": "execute_result"
        }
      ],
      "source": [
        "tokenizer('<pad>')"
      ]
    },
    {
      "cell_type": "code",
      "execution_count": null,
      "metadata": {
        "execution": {
          "iopub.execute_input": "2024-04-13T17:17:32.986191Z",
          "iopub.status.busy": "2024-04-13T17:17:32.985831Z",
          "iopub.status.idle": "2024-04-13T17:17:32.994210Z",
          "shell.execute_reply": "2024-04-13T17:17:32.993359Z",
          "shell.execute_reply.started": "2024-04-13T17:17:32.986165Z"
        },
        "id": "voN6asr6i0C6",
        "trusted": true
      },
      "outputs": [],
      "source": [
        "from torch.utils.data import DataLoader\n",
        "\n",
        "train_loader = DataLoader(\n",
        "    tokenized_datasets[\"train\"],\n",
        "    shuffle=True,\n",
        "    batch_size=16,\n",
        "    collate_fn=data_collator\n",
        ")\n",
        "\n",
        "valid_loader = DataLoader(\n",
        "    tokenized_datasets[\"test\"],\n",
        "    batch_size=16,\n",
        "    collate_fn=data_collator\n",
        ")"
      ]
    },
    {
      "cell_type": "code",
      "execution_count": null,
      "metadata": {
        "colab": {
          "base_uri": "https://localhost:8080/"
        },
        "execution": {
          "iopub.execute_input": "2024-04-13T17:17:32.995987Z",
          "iopub.status.busy": "2024-04-13T17:17:32.995476Z",
          "iopub.status.idle": "2024-04-13T17:17:33.029058Z",
          "shell.execute_reply": "2024-04-13T17:17:33.028141Z",
          "shell.execute_reply.started": "2024-04-13T17:17:32.995953Z"
        },
        "id": "LleNMX2Ui0C6",
        "outputId": "54de38a0-4b20-48f2-c925-54e42603a0a9",
        "trusted": true
      },
      "outputs": [
        {
          "name": "stdout",
          "output_type": "stream",
          "text": [
            "k:  input_ids v.shape:  torch.Size([16, 256])\n",
            "k:  attention_mask v.shape:  torch.Size([16, 256])\n",
            "k:  labels v.shape:  torch.Size([16, 256])\n"
          ]
        }
      ],
      "source": [
        "for batch in train_loader:\n",
        "    for k,v in batch.items():\n",
        "        print(\"k: \",k,\"v.shape: \",v.shape)\n",
        "    break"
      ]
    },
    {
      "cell_type": "code",
      "execution_count": null,
      "metadata": {
        "colab": {
          "base_uri": "https://localhost:8080/"
        },
        "execution": {
          "iopub.execute_input": "2024-04-13T17:17:33.030453Z",
          "iopub.status.busy": "2024-04-13T17:17:33.030176Z",
          "iopub.status.idle": "2024-04-13T17:17:33.036401Z",
          "shell.execute_reply": "2024-04-13T17:17:33.035486Z",
          "shell.execute_reply.started": "2024-04-13T17:17:33.030430Z"
        },
        "id": "tiyErQsLi0DN",
        "outputId": "ba7756a7-19dc-4869-c26f-9794bf88ef92",
        "trusted": true
      },
      "outputs": [
        {
          "data": {
            "text/plain": [
              "61950"
            ]
          },
          "execution_count": 40,
          "metadata": {},
          "output_type": "execute_result"
        }
      ],
      "source": [
        "tokenizer.vocab_size"
      ]
    },
    {
      "cell_type": "code",
      "execution_count": null,
      "metadata": {
        "colab": {
          "base_uri": "https://localhost:8080/",
          "height": 35
        },
        "execution": {
          "iopub.execute_input": "2024-04-13T17:17:33.037992Z",
          "iopub.status.busy": "2024-04-13T17:17:33.037676Z",
          "iopub.status.idle": "2024-04-13T17:17:33.048683Z",
          "shell.execute_reply": "2024-04-13T17:17:33.047782Z",
          "shell.execute_reply.started": "2024-04-13T17:17:33.037968Z"
        },
        "id": "g1zvhCeGi0DN",
        "outputId": "aa10e19c-d9bf-45b9-fb5b-699e1b04b5f2",
        "trusted": true
      },
      "outputs": [
        {
          "data": {
            "text/plain": [
              "'</s>'"
            ]
          },
          "execution_count": 41,
          "metadata": {},
          "output_type": "execute_result"
        }
      ],
      "source": [
        "tokenizer.decode([0])"
      ]
    },
    {
      "cell_type": "code",
      "execution_count": null,
      "metadata": {
        "colab": {
          "base_uri": "https://localhost:8080/"
        },
        "execution": {
          "iopub.execute_input": "2024-04-13T17:17:33.050286Z",
          "iopub.status.busy": "2024-04-13T17:17:33.049980Z",
          "iopub.status.idle": "2024-04-13T17:17:33.062616Z",
          "shell.execute_reply": "2024-04-13T17:17:33.061689Z",
          "shell.execute_reply.started": "2024-04-13T17:17:33.050262Z"
        },
        "id": "_mtWVlhKi0DO",
        "outputId": "db3a9cc3-714c-40ab-ebef-b1f7569ee256",
        "trusted": true
      },
      "outputs": [
        {
          "data": {
            "text/plain": [
              "1"
            ]
          },
          "execution_count": 42,
          "metadata": {},
          "output_type": "execute_result"
        }
      ],
      "source": [
        "tokenizer.add_special_tokens({\"cls_token\": \"<s>\"})"
      ]
    },
    {
      "cell_type": "code",
      "execution_count": null,
      "metadata": {
        "colab": {
          "base_uri": "https://localhost:8080/"
        },
        "execution": {
          "iopub.execute_input": "2024-04-13T17:17:33.064890Z",
          "iopub.status.busy": "2024-04-13T17:17:33.064058Z",
          "iopub.status.idle": "2024-04-13T17:17:33.074663Z",
          "shell.execute_reply": "2024-04-13T17:17:33.073786Z",
          "shell.execute_reply.started": "2024-04-13T17:17:33.064862Z"
        },
        "id": "GXOIi4zxi0DO",
        "outputId": "7b932804-82a0-4d1b-8ac9-bcbfdd64d9ab",
        "trusted": true
      },
      "outputs": [
        {
          "data": {
            "text/plain": [
              "{'input_ids': [61950, 0], 'attention_mask': [1, 1]}"
            ]
          },
          "execution_count": 43,
          "metadata": {},
          "output_type": "execute_result"
        }
      ],
      "source": [
        "tokenizer(\"<s>\")"
      ]
    },
    {
      "cell_type": "code",
      "execution_count": null,
      "metadata": {
        "colab": {
          "base_uri": "https://localhost:8080/"
        },
        "execution": {
          "iopub.execute_input": "2024-04-13T17:17:33.076655Z",
          "iopub.status.busy": "2024-04-13T17:17:33.075990Z",
          "iopub.status.idle": "2024-04-13T17:17:33.085504Z",
          "shell.execute_reply": "2024-04-13T17:17:33.084473Z",
          "shell.execute_reply.started": "2024-04-13T17:17:33.076620Z"
        },
        "id": "XNMJ9YZJi0DO",
        "outputId": "0131f16b-41f7-454d-807f-12254c904b44",
        "trusted": true
      },
      "outputs": [
        {
          "data": {
            "text/plain": [
              "61950"
            ]
          },
          "execution_count": 44,
          "metadata": {},
          "output_type": "execute_result"
        }
      ],
      "source": [
        "tokenizer.vocab_size"
      ]
    },
    {
      "cell_type": "code",
      "execution_count": null,
      "metadata": {
        "execution": {
          "iopub.execute_input": "2024-04-13T17:17:33.087324Z",
          "iopub.status.busy": "2024-04-13T17:17:33.086807Z",
          "iopub.status.idle": "2024-04-13T17:17:33.239793Z",
          "shell.execute_reply": "2024-04-13T17:17:33.238748Z",
          "shell.execute_reply.started": "2024-04-13T17:17:33.087290Z"
        },
        "id": "jt7JuV_4i0DP",
        "trusted": true
      },
      "outputs": [],
      "source": [
        "encoder = Encoder(\n",
        "    vocab_size=tokenizer.vocab_size + 1,\n",
        "    max_len=512,\n",
        "    d_k=16,\n",
        "    d_model=64,\n",
        "    n_heads=4,\n",
        "    n_layers=2,\n",
        "    dropout_prob=0.1\n",
        ")\n",
        "\n",
        "decoder = Decoder(\n",
        "    vocab_size=tokenizer.vocab_size + 1,\n",
        "    max_len=512,\n",
        "    d_k=16,\n",
        "    d_model=64,\n",
        "    n_heads=4,\n",
        "    n_layers=2,\n",
        "    dropout_prob=0.1)\n",
        "\n",
        "transformer = Transformer(encoder,decoder)"
      ]
    },
    {
      "cell_type": "code",
      "execution_count": null,
      "metadata": {
        "colab": {
          "base_uri": "https://localhost:8080/"
        },
        "execution": {
          "iopub.execute_input": "2024-04-13T17:17:33.241424Z",
          "iopub.status.busy": "2024-04-13T17:17:33.241102Z",
          "iopub.status.idle": "2024-04-13T17:17:33.280113Z",
          "shell.execute_reply": "2024-04-13T17:17:33.279121Z",
          "shell.execute_reply.started": "2024-04-13T17:17:33.241397Z"
        },
        "id": "8dds9vM5i0DP",
        "outputId": "37577aee-fc33-4a8a-a59b-6f2b5f862149",
        "trusted": true
      },
      "outputs": [
        {
          "name": "stdout",
          "output_type": "stream",
          "text": [
            "cuda:0\n"
          ]
        },
        {
          "data": {
            "text/plain": [
              "Decoder(\n",
              "  (embedding): Embedding(61951, 64)\n",
              "  (pos_encoding): PositionalEncoding(\n",
              "    (dropout): Dropout(p=0.1, inplace=False)\n",
              "  )\n",
              "  (transformer_blocks): Sequential(\n",
              "    (0): DecoderBlock(\n",
              "      (ln1): LayerNorm((64,), eps=1e-05, elementwise_affine=True)\n",
              "      (ln2): LayerNorm((64,), eps=1e-05, elementwise_affine=True)\n",
              "      (ln3): LayerNorm((64,), eps=1e-05, elementwise_affine=True)\n",
              "      (mha1): MultiHeadAttention(\n",
              "        (key): Linear(in_features=64, out_features=64, bias=True)\n",
              "        (query): Linear(in_features=64, out_features=64, bias=True)\n",
              "        (value): Linear(in_features=64, out_features=64, bias=True)\n",
              "        (fc): Linear(in_features=64, out_features=64, bias=True)\n",
              "      )\n",
              "      (mha2): MultiHeadAttention(\n",
              "        (key): Linear(in_features=64, out_features=64, bias=True)\n",
              "        (query): Linear(in_features=64, out_features=64, bias=True)\n",
              "        (value): Linear(in_features=64, out_features=64, bias=True)\n",
              "        (fc): Linear(in_features=64, out_features=64, bias=True)\n",
              "      )\n",
              "      (ann): Sequential(\n",
              "        (0): Linear(in_features=64, out_features=256, bias=True)\n",
              "        (1): GELU(approximate='none')\n",
              "        (2): Linear(in_features=256, out_features=64, bias=True)\n",
              "        (3): Dropout(p=0.1, inplace=False)\n",
              "      )\n",
              "      (dropout): Dropout(p=0.1, inplace=False)\n",
              "    )\n",
              "    (1): DecoderBlock(\n",
              "      (ln1): LayerNorm((64,), eps=1e-05, elementwise_affine=True)\n",
              "      (ln2): LayerNorm((64,), eps=1e-05, elementwise_affine=True)\n",
              "      (ln3): LayerNorm((64,), eps=1e-05, elementwise_affine=True)\n",
              "      (mha1): MultiHeadAttention(\n",
              "        (key): Linear(in_features=64, out_features=64, bias=True)\n",
              "        (query): Linear(in_features=64, out_features=64, bias=True)\n",
              "        (value): Linear(in_features=64, out_features=64, bias=True)\n",
              "        (fc): Linear(in_features=64, out_features=64, bias=True)\n",
              "      )\n",
              "      (mha2): MultiHeadAttention(\n",
              "        (key): Linear(in_features=64, out_features=64, bias=True)\n",
              "        (query): Linear(in_features=64, out_features=64, bias=True)\n",
              "        (value): Linear(in_features=64, out_features=64, bias=True)\n",
              "        (fc): Linear(in_features=64, out_features=64, bias=True)\n",
              "      )\n",
              "      (ann): Sequential(\n",
              "        (0): Linear(in_features=64, out_features=256, bias=True)\n",
              "        (1): GELU(approximate='none')\n",
              "        (2): Linear(in_features=256, out_features=64, bias=True)\n",
              "        (3): Dropout(p=0.1, inplace=False)\n",
              "      )\n",
              "      (dropout): Dropout(p=0.1, inplace=False)\n",
              "    )\n",
              "  )\n",
              "  (ln): LayerNorm((64,), eps=1e-05, elementwise_affine=True)\n",
              "  (fc): Linear(in_features=64, out_features=61951, bias=True)\n",
              ")"
            ]
          },
          "execution_count": 46,
          "metadata": {},
          "output_type": "execute_result"
        }
      ],
      "source": [
        "device = torch.device(\"cuda:0\" if torch.cuda.is_available() else \"cpu\")\n",
        "print(device)\n",
        "encoder.to(device)\n",
        "decoder.to(device)\n"
      ]
    },
    {
      "cell_type": "code",
      "execution_count": null,
      "metadata": {
        "execution": {
          "iopub.execute_input": "2024-04-13T17:17:33.282021Z",
          "iopub.status.busy": "2024-04-13T17:17:33.281651Z",
          "iopub.status.idle": "2024-04-13T17:17:33.916108Z",
          "shell.execute_reply": "2024-04-13T17:17:33.915168Z",
          "shell.execute_reply.started": "2024-04-13T17:17:33.281994Z"
        },
        "id": "HqOHeqzCi0DP",
        "trusted": true
      },
      "outputs": [],
      "source": [
        "#Loass and optimizer\n",
        "criterion = nn.CrossEntropyLoss(ignore_index=61949)\n",
        "optimizer = torch.optim.Adam(transformer.parameters())"
      ]
    },
    {
      "cell_type": "code",
      "execution_count": null,
      "metadata": {
        "execution": {
          "iopub.execute_input": "2024-04-13T17:17:33.917968Z",
          "iopub.status.busy": "2024-04-13T17:17:33.917562Z",
          "iopub.status.idle": "2024-04-13T17:17:33.935951Z",
          "shell.execute_reply": "2024-04-13T17:17:33.934879Z",
          "shell.execute_reply.started": "2024-04-13T17:17:33.917932Z"
        },
        "id": "zopPdPtfi0DP",
        "trusted": true
      },
      "outputs": [],
      "source": [
        "from datetime import datetime\n",
        "#A function to calculate the time taken\n",
        "\n",
        "def train(model, criterion, optimizer, train_loader, valid_loader, epochs):\n",
        "    train_losses = np.zeros(epochs)\n",
        "    test_losses = np.zeros(epochs)\n",
        "\n",
        "    for it in range(epochs):\n",
        "        model.train()\n",
        "        t0 = datetime.now()\n",
        "        train_loss = []\n",
        "        for batch in train_loader:\n",
        "            batch = {k: v.to(device) for k, v in batch.items()}\n",
        "\n",
        "            optimizer.zero_grad()\n",
        "\n",
        "            enc_input = batch['input_ids']\n",
        "            enc_mask = batch['attention_mask']\n",
        "            targets = batch['labels']\n",
        "\n",
        "            dec_input = targets.clone().detach()\n",
        "            dec_input = torch.roll(dec_input, shifts=1, dims=1)\n",
        "            dec_input[:,0] = 61_950\n",
        "\n",
        "            dec_input = dec_input.masked_fill(\n",
        "                dec_input == 61_949, tokenizer.pad_token_id)\n",
        "\n",
        "            dec_mask = torch.ones_like(dec_input)\n",
        "            dec_mask = dec_mask.masked_fill(dec_input == tokenizer.pad_token_id, 0)\n",
        "\n",
        "            #forward\n",
        "            outputs = model(enc_input, dec_input, enc_mask, dec_mask)\n",
        "            loss = criterion(outputs.transpose(2,1), targets)\n",
        "\n",
        "            #backward\n",
        "            loss.backward()\n",
        "            optimizer.step()\n",
        "            train_loss.append(loss.item())\n",
        "\n",
        "        train_loss = np.mean(train_loss)\n",
        "\n",
        "        model.eval()\n",
        "        test_loss = []\n",
        "        for batch in valid_loader:\n",
        "            batch = {k: v.to(device) for k, v in batch.items()}\n",
        "            enc_input = batch['input_ids']\n",
        "            enc_mask = batch['attention_mask']\n",
        "            targets = batch['labels']\n",
        "            dec_input = targets.clone().detach()\n",
        "            dec_input = torch.roll(dec_input, shifts=1, dims=1)\n",
        "            dec_input[:,0] = 61_950\n",
        "\n",
        "            dec_input = dec_input.masked_fill(\n",
        "                dec_input == 61_949, tokenizer.pad_token_id)\n",
        "\n",
        "            dec_mask = torch.ones_like(dec_input)\n",
        "            dec_mask = dec_mask.masked_fill(dec_input == tokenizer.pad_token_id, 0)\n",
        "\n",
        "            outputs = model(enc_input, dec_input, enc_mask, dec_mask)\n",
        "            loss = criterion(outputs.transpose(2,1),targets)\n",
        "            test_loss.append(loss.item())\n",
        "        test_loss = np.mean(test_loss)\n",
        "\n",
        "        train_losses[it] = train_loss\n",
        "        test_losses[it] = test_loss\n",
        "\n",
        "        dt = datetime.now() - t0\n",
        "        print(f'Epoch{it+1}/{epochs}, Train Loss: {train_loss:.4f}, \\\n",
        "              Test Loss: {test_loss:.4f}, Duration: {dt}')\n",
        "    return train_losses, test_losses\n",
        "\n",
        "\n"
      ]
    },
    {
      "cell_type": "code",
      "execution_count": null,
      "metadata": {
        "colab": {
          "base_uri": "https://localhost:8080/"
        },
        "execution": {
          "iopub.execute_input": "2024-04-13T17:17:33.937427Z",
          "iopub.status.busy": "2024-04-13T17:17:33.937105Z",
          "iopub.status.idle": "2024-04-14T02:36:23.835055Z",
          "shell.execute_reply": "2024-04-14T02:36:23.833965Z",
          "shell.execute_reply.started": "2024-04-13T17:17:33.937401Z"
        },
        "id": "ZyIKdhPyi0DQ",
        "outputId": "b769603c-21e3-4efb-f10b-0a703abac369",
        "trusted": true
      },
      "outputs": [
        {
          "name": "stdout",
          "output_type": "stream",
          "text": [
            "Epoch1/25, Train Loss: 2.6164,               Test Loss: 2.2359, Duration: 0:22:21.558546\n",
            "Epoch2/25, Train Loss: 2.2488,               Test Loss: 2.0521, Duration: 0:22:21.571902\n",
            "Epoch3/25, Train Loss: 2.1266,               Test Loss: 1.9623, Duration: 0:22:21.909780\n",
            "Epoch4/25, Train Loss: 2.0587,               Test Loss: 1.9052, Duration: 0:22:22.576786\n",
            "Epoch5/25, Train Loss: 2.0135,               Test Loss: 1.8655, Duration: 0:22:20.690815\n",
            "Epoch6/25, Train Loss: 1.9803,               Test Loss: 1.8378, Duration: 0:22:20.108449\n",
            "Epoch7/25, Train Loss: 1.9536,               Test Loss: 1.8109, Duration: 0:22:21.293557\n",
            "Epoch8/25, Train Loss: 1.9334,               Test Loss: 1.7905, Duration: 0:22:20.147807\n",
            "Epoch9/25, Train Loss: 1.9151,               Test Loss: 1.7758, Duration: 0:22:19.849807\n",
            "Epoch10/25, Train Loss: 1.9005,               Test Loss: 1.7626, Duration: 0:22:21.044682\n",
            "Epoch11/25, Train Loss: 1.8871,               Test Loss: 1.7517, Duration: 0:22:20.962966\n",
            "Epoch12/25, Train Loss: 1.8755,               Test Loss: 1.7380, Duration: 0:22:20.218861\n",
            "Epoch13/25, Train Loss: 1.8651,               Test Loss: 1.7299, Duration: 0:22:20.773154\n",
            "Epoch14/25, Train Loss: 1.8547,               Test Loss: 1.7226, Duration: 0:22:20.283806\n",
            "Epoch15/25, Train Loss: 1.8451,               Test Loss: 1.7144, Duration: 0:22:20.493313\n",
            "Epoch16/25, Train Loss: 1.8367,               Test Loss: 1.7064, Duration: 0:22:21.253898\n",
            "Epoch17/25, Train Loss: 1.8300,               Test Loss: 1.6988, Duration: 0:22:21.499141\n",
            "Epoch18/25, Train Loss: 1.8238,               Test Loss: 1.6898, Duration: 0:22:21.408305\n",
            "Epoch19/25, Train Loss: 1.8163,               Test Loss: 1.6854, Duration: 0:22:22.371054\n",
            "Epoch20/25, Train Loss: 1.8089,               Test Loss: 1.6762, Duration: 0:22:22.490591\n",
            "Epoch21/25, Train Loss: 1.8032,               Test Loss: 1.6740, Duration: 0:22:22.486407\n",
            "Epoch22/25, Train Loss: 1.7984,               Test Loss: 1.6708, Duration: 0:22:21.615131\n",
            "Epoch23/25, Train Loss: 1.7929,               Test Loss: 1.6654, Duration: 0:22:21.625816\n",
            "Epoch24/25, Train Loss: 1.7882,               Test Loss: 1.6587, Duration: 0:22:21.127258\n",
            "Epoch25/25, Train Loss: 1.7832,               Test Loss: 1.6554, Duration: 0:22:20.503189\n"
          ]
        }
      ],
      "source": [
        "train_losses, test_losses = train(transformer, criterion, optimizer, train_loader, valid_loader, epochs=25)"
      ]
    },
    {
      "cell_type": "code",
      "execution_count": null,
      "metadata": {
        "execution": {
          "iopub.execute_input": "2024-04-16T04:35:44.169231Z",
          "iopub.status.busy": "2024-04-16T04:35:44.168926Z",
          "iopub.status.idle": "2024-04-16T04:35:44.496791Z",
          "shell.execute_reply": "2024-04-16T04:35:44.495524Z",
          "shell.execute_reply.started": "2024-04-16T04:35:44.169206Z"
        },
        "id": "gDz8gMYni0DQ",
        "trusted": true
      },
      "outputs": [],
      "source": [
        "input_sentence = split['test'][10]['English']\n",
        "input_sentence"
      ]
    },
    {
      "cell_type": "code",
      "execution_count": null,
      "metadata": {
        "execution": {
          "iopub.execute_input": "2024-04-14T02:36:23.845162Z",
          "iopub.status.busy": "2024-04-14T02:36:23.844770Z",
          "iopub.status.idle": "2024-04-14T02:36:23.871694Z",
          "shell.execute_reply": "2024-04-14T02:36:23.870712Z",
          "shell.execute_reply.started": "2024-04-14T02:36:23.845138Z"
        },
        "id": "oD1aSMB6i0DQ",
        "outputId": "671a74c5-164e-4a83-efc8-453cab008a4f",
        "trusted": true
      },
      "outputs": [
        {
          "data": {
            "text/plain": [
              "{'input_ids': tensor([[  238,  1685, 17614, 10283,  2411,     4,  6227,     8, 48899, 20542,\n",
              "           916,    23,   747, 48899, 19268,  6439,     3,     0]]), 'attention_mask': tensor([[1, 1, 1, 1, 1, 1, 1, 1, 1, 1, 1, 1, 1, 1, 1, 1, 1, 1]])}"
            ]
          },
          "execution_count": 51,
          "metadata": {},
          "output_type": "execute_result"
        }
      ],
      "source": [
        "enc_input = tokenizer(input_sentence, return_tensors='pt')\n",
        "enc_input"
      ]
    },
    {
      "cell_type": "code",
      "execution_count": null,
      "metadata": {
        "execution": {
          "iopub.execute_input": "2024-04-14T02:36:23.873371Z",
          "iopub.status.busy": "2024-04-14T02:36:23.873029Z",
          "iopub.status.idle": "2024-04-14T02:36:23.882947Z",
          "shell.execute_reply": "2024-04-14T02:36:23.882074Z",
          "shell.execute_reply.started": "2024-04-14T02:36:23.873334Z"
        },
        "id": "I9hE8Imji0DR",
        "outputId": "610553bb-909a-49d3-d44f-ba4c6f754587",
        "trusted": true
      },
      "outputs": [
        {
          "data": {
            "text/plain": [
              "{'input_ids': tensor([[61950,     0]]), 'attention_mask': tensor([[1, 1]])}"
            ]
          },
          "execution_count": 52,
          "metadata": {},
          "output_type": "execute_result"
        }
      ],
      "source": [
        "dec_input_str = '<s>'\n",
        "\n",
        "dec_input = tokenizer(text_target=dec_input_str, return_tensors='pt')\n",
        "dec_input"
      ]
    },
    {
      "cell_type": "code",
      "execution_count": null,
      "metadata": {
        "execution": {
          "iopub.execute_input": "2024-04-14T02:36:23.884400Z",
          "iopub.status.busy": "2024-04-14T02:36:23.884061Z",
          "iopub.status.idle": "2024-04-14T02:36:23.944578Z",
          "shell.execute_reply": "2024-04-14T02:36:23.943524Z",
          "shell.execute_reply.started": "2024-04-14T02:36:23.884374Z"
        },
        "id": "P79NVl1hi0DR",
        "outputId": "ddc2a063-2e21-45e3-dbe4-4bc649237d6a",
        "trusted": true
      },
      "outputs": [
        {
          "data": {
            "text/plain": [
              "tensor([[[ -1.8439,  -2.4967,  -3.4305,  ..., -14.9776, -15.0811, -15.0501]]],\n",
              "       device='cuda:0', grad_fn=<ViewBackward0>)"
            ]
          },
          "execution_count": 53,
          "metadata": {},
          "output_type": "execute_result"
        }
      ],
      "source": [
        "enc_input.to(device)\n",
        "dec_input.to(device)\n",
        "output = transformer(\n",
        "    enc_input['input_ids'],\n",
        "    dec_input['input_ids'][:, :-1],\n",
        "    enc_input['attention_mask'],\n",
        "    dec_input['attention_mask'][:, :-1],\n",
        ")\n",
        "output"
      ]
    },
    {
      "cell_type": "code",
      "execution_count": null,
      "metadata": {
        "execution": {
          "iopub.execute_input": "2024-04-14T02:36:23.946438Z",
          "iopub.status.busy": "2024-04-14T02:36:23.946033Z",
          "iopub.status.idle": "2024-04-14T02:36:23.952759Z",
          "shell.execute_reply": "2024-04-14T02:36:23.951747Z",
          "shell.execute_reply.started": "2024-04-14T02:36:23.946392Z"
        },
        "id": "SYP-6Iy6i0DR",
        "outputId": "2d9f1f19-5b9f-4862-9ffc-9250b916a4c9",
        "trusted": true
      },
      "outputs": [
        {
          "data": {
            "text/plain": [
              "torch.Size([1, 1, 61951])"
            ]
          },
          "execution_count": 54,
          "metadata": {},
          "output_type": "execute_result"
        }
      ],
      "source": [
        "output.shape"
      ]
    },
    {
      "cell_type": "code",
      "execution_count": null,
      "metadata": {
        "execution": {
          "iopub.execute_input": "2024-04-14T02:36:23.954490Z",
          "iopub.status.busy": "2024-04-14T02:36:23.954119Z",
          "iopub.status.idle": "2024-04-14T02:36:23.968558Z",
          "shell.execute_reply": "2024-04-14T02:36:23.967562Z",
          "shell.execute_reply.started": "2024-04-14T02:36:23.954459Z"
        },
        "id": "-feEMjPAi0DS",
        "outputId": "ad3eac43-e810-45fe-db03-ff46cd4660c3",
        "trusted": true
      },
      "outputs": [
        {
          "data": {
            "text/plain": [
              "torch.Size([1, 18, 64])"
            ]
          },
          "execution_count": 55,
          "metadata": {},
          "output_type": "execute_result"
        }
      ],
      "source": [
        "enc_output = encoder(enc_input['input_ids'], enc_input['attention_mask'])\n",
        "enc_output.shape"
      ]
    },
    {
      "cell_type": "code",
      "execution_count": null,
      "metadata": {
        "execution": {
          "iopub.execute_input": "2024-04-14T02:36:23.970240Z",
          "iopub.status.busy": "2024-04-14T02:36:23.969889Z",
          "iopub.status.idle": "2024-04-14T02:36:23.981970Z",
          "shell.execute_reply": "2024-04-14T02:36:23.980984Z",
          "shell.execute_reply.started": "2024-04-14T02:36:23.970208Z"
        },
        "id": "lNFGsAX7i0DS",
        "outputId": "b3e79d46-15d0-4cbf-89d8-a32a355b0b54",
        "trusted": true
      },
      "outputs": [
        {
          "data": {
            "text/plain": [
              "torch.Size([1, 1, 61951])"
            ]
          },
          "execution_count": 56,
          "metadata": {},
          "output_type": "execute_result"
        }
      ],
      "source": [
        "dec_output = decoder(\n",
        "    enc_output,\n",
        "    dec_input['input_ids'][:,:-1],\n",
        "    enc_input['attention_mask'],\n",
        "    dec_input['attention_mask'][:, :-1]\n",
        "    )\n",
        "dec_output.shape"
      ]
    },
    {
      "cell_type": "code",
      "execution_count": null,
      "metadata": {
        "execution": {
          "iopub.execute_input": "2024-04-14T02:36:23.983526Z",
          "iopub.status.busy": "2024-04-14T02:36:23.983170Z",
          "iopub.status.idle": "2024-04-14T02:36:24.030917Z",
          "shell.execute_reply": "2024-04-14T02:36:24.029887Z",
          "shell.execute_reply.started": "2024-04-14T02:36:23.983495Z"
        },
        "id": "MW5sgKO3i0DT",
        "outputId": "6303f231-138d-443c-c3f9-462be751d437",
        "trusted": true
      },
      "outputs": [
        {
          "data": {
            "text/plain": [
              "True"
            ]
          },
          "execution_count": 57,
          "metadata": {},
          "output_type": "execute_result"
        }
      ],
      "source": [
        "torch.allclose(output, dec_output)"
      ]
    },
    {
      "cell_type": "code",
      "execution_count": null,
      "metadata": {
        "execution": {
          "iopub.execute_input": "2024-04-14T02:36:24.032449Z",
          "iopub.status.busy": "2024-04-14T02:36:24.032132Z",
          "iopub.status.idle": "2024-04-14T02:36:24.192311Z",
          "shell.execute_reply": "2024-04-14T02:36:24.191220Z",
          "shell.execute_reply.started": "2024-04-14T02:36:24.032411Z"
        },
        "id": "yV0yP5SRi0DT",
        "trusted": true
      },
      "outputs": [],
      "source": [
        "dec_input_ids = dec_input['input_ids'][:, :-1]\n",
        "dec_attn_mask = dec_input['attention_mask'][:, :-1]\n",
        "\n",
        "for _ in range(32):\n",
        "    dec_output = decoder(\n",
        "        enc_output,\n",
        "        dec_input_ids,\n",
        "        enc_input['attention_mask'],\n",
        "        dec_attn_mask,\n",
        "    )\n",
        "\n",
        "    prediction_id = torch.argmax(dec_output[:, -1, :], axis=-1)\n",
        "    dec_input_ids = torch.hstack((dec_input_ids, prediction_id.view(1,1)))\n",
        "\n",
        "    dec_attn_mask = torch.ones_like(dec_input_ids)\n",
        "\n",
        "    if prediction_id == 0:\n",
        "        break"
      ]
    },
    {
      "cell_type": "code",
      "execution_count": null,
      "metadata": {
        "execution": {
          "iopub.execute_input": "2024-04-14T02:49:22.608354Z",
          "iopub.status.busy": "2024-04-14T02:49:22.607455Z",
          "iopub.status.idle": "2024-04-14T02:49:22.616195Z",
          "shell.execute_reply": "2024-04-14T02:49:22.615058Z",
          "shell.execute_reply.started": "2024-04-14T02:49:22.608318Z"
        },
        "id": "PdO0C0zFi0DT",
        "outputId": "78508818-93d4-419d-aa84-d1738051547e",
        "trusted": true
      },
      "outputs": [
        {
          "data": {
            "text/plain": [
              "'<s> <unk> ्<unk> दो दो दो दो महान के <unk> ्<unk> का <unk>'"
            ]
          },
          "execution_count": 65,
          "metadata": {},
          "output_type": "execute_result"
        }
      ],
      "source": [
        "tokenizer.decode(dec_input_ids[0])"
      ]
    },
    {
      "cell_type": "code",
      "execution_count": null,
      "metadata": {
        "execution": {
          "iopub.execute_input": "2024-04-14T02:36:24.203321Z",
          "iopub.status.busy": "2024-04-14T02:36:24.202973Z",
          "iopub.status.idle": "2024-04-14T02:36:24.211144Z",
          "shell.execute_reply": "2024-04-14T02:36:24.210198Z",
          "shell.execute_reply.started": "2024-04-14T02:36:24.203295Z"
        },
        "id": "X8JY7knSi0DU",
        "outputId": "cd869680-b10d-433c-a2fe-0ca299b464c9",
        "trusted": true
      },
      "outputs": [
        {
          "data": {
            "text/plain": [
              "'ताज महल के दक्षिण में स्थित एक छोटी बस्ती को ताजगंज कहते हैं।'"
            ]
          },
          "execution_count": 60,
          "metadata": {},
          "output_type": "execute_result"
        }
      ],
      "source": [
        "split['test'][10]['Hindi']"
      ]
    },
    {
      "cell_type": "code",
      "execution_count": null,
      "metadata": {
        "execution": {
          "iopub.execute_input": "2024-04-14T03:07:21.503593Z",
          "iopub.status.busy": "2024-04-14T03:07:21.503214Z",
          "iopub.status.idle": "2024-04-14T03:07:21.512815Z",
          "shell.execute_reply": "2024-04-14T03:07:21.511526Z",
          "shell.execute_reply.started": "2024-04-14T03:07:21.503564Z"
        },
        "id": "FO2WF51si0DU",
        "trusted": true
      },
      "outputs": [],
      "source": [
        "def translate(input_sentence):\n",
        "    #get encoder\n",
        "    enc_input = tokenizer(input_sentence, return_tensors='pt').to(device)\n",
        "    enc_output = encoder(enc_input['input_ids'], enc_input['attention_mask'])\n",
        "\n",
        "    #setup\n",
        "    dec_input_ids = torch.tensor([[61950]], device=device)\n",
        "    dec_attn_mask = torch.ones_like(dec_input_ids, device=device)\n",
        "\n",
        "    #decoder loop\n",
        "    for _ in range(32):\n",
        "        dec_output = decoder(\n",
        "            enc_output,\n",
        "            dec_input_ids,\n",
        "            enc_input['attention_mask'],\n",
        "            dec_attn_mask,\n",
        "        )\n",
        "\n",
        "        prediction_id = torch.argmax(dec_output[:, -1, :], axis=-1)\n",
        "\n",
        "        dec_input_ids = torch.hstack((dec_input_ids, prediction_id.view(1,1)))\n",
        "\n",
        "        dec_attn_mask = torch.ones_like(dec_input_ids)\n",
        "\n",
        "        if prediction_id == 0:\n",
        "            break\n",
        "    translation = tokenizer.decode(dec_input_ids[0,1:])\n",
        "    print(translation)\n",
        "\n",
        "\n"
      ]
    },
    {
      "cell_type": "code",
      "execution_count": null,
      "metadata": {
        "execution": {
          "iopub.execute_input": "2024-04-14T03:07:30.956261Z",
          "iopub.status.busy": "2024-04-14T03:07:30.955898Z",
          "iopub.status.idle": "2024-04-14T03:07:30.999543Z",
          "shell.execute_reply": "2024-04-14T03:07:30.998386Z",
          "shell.execute_reply.started": "2024-04-14T03:07:30.956234Z"
        },
        "id": "d1DS3EMEi0DU",
        "outputId": "fc1e1af2-1acf-443e-e3a2-6fb7b91fd745",
        "tags": [],
        "trusted": true
      },
      "outputs": [
        {
          "name": "stdout",
          "output_type": "stream",
          "text": [
            "तुम कैसे हैं</s>\n"
          ]
        }
      ],
      "source": [
        "translate(\"How are you\")"
      ]
    }
  ],
  "metadata": {
    "accelerator": "GPU",
    "colab": {
      "gpuType": "T4",
      "provenance": []
    },
    "kaggle": {
      "accelerator": "gpu",
      "dataSources": [
        {
          "datasetId": 4782595,
          "sourceId": 8099140,
          "sourceType": "datasetVersion"
        }
      ],
      "isGpuEnabled": true,
      "isInternetEnabled": true,
      "language": "python",
      "sourceType": "notebook"
    },
    "kernelspec": {
      "display_name": "Python 3",
      "language": "python",
      "name": "python3"
    },
    "language_info": {
      "codemirror_mode": {
        "name": "ipython",
        "version": 3
      },
      "file_extension": ".py",
      "mimetype": "text/x-python",
      "name": "python",
      "nbconvert_exporter": "python",
      "pygments_lexer": "ipython3",
      "version": "3.10.13"
    },
    "widgets": {
      "application/vnd.jupyter.widget-state+json": {
        "161df49abe3a400788923db27aebe8bb": {
          "model_module": "@jupyter-widgets/controls",
          "model_module_version": "1.5.0",
          "model_name": "HTMLModel",
          "state": {
            "_dom_classes": [],
            "_model_module": "@jupyter-widgets/controls",
            "_model_module_version": "1.5.0",
            "_model_name": "HTMLModel",
            "_view_count": null,
            "_view_module": "@jupyter-widgets/controls",
            "_view_module_version": "1.5.0",
            "_view_name": "HTMLView",
            "description": "",
            "description_tooltip": null,
            "layout": "IPY_MODEL_c3656ec94b0e4fd09af68d694d25b933",
            "placeholder": "​",
            "style": "IPY_MODEL_49f2398333ab4d51a48d62783fa155a7",
            "value": "Generating train split: "
          }
        },
        "1625f034d0214dc190808be66e9a9735": {
          "model_module": "@jupyter-widgets/controls",
          "model_module_version": "1.5.0",
          "model_name": "ProgressStyleModel",
          "state": {
            "_model_module": "@jupyter-widgets/controls",
            "_model_module_version": "1.5.0",
            "_model_name": "ProgressStyleModel",
            "_view_count": null,
            "_view_module": "@jupyter-widgets/base",
            "_view_module_version": "1.2.0",
            "_view_name": "StyleView",
            "bar_color": null,
            "description_width": ""
          }
        },
        "193c2ff27c7c416bbcb7f6c9165dcbbb": {
          "model_module": "@jupyter-widgets/controls",
          "model_module_version": "1.5.0",
          "model_name": "HBoxModel",
          "state": {
            "_dom_classes": [],
            "_model_module": "@jupyter-widgets/controls",
            "_model_module_version": "1.5.0",
            "_model_name": "HBoxModel",
            "_view_count": null,
            "_view_module": "@jupyter-widgets/controls",
            "_view_module_version": "1.5.0",
            "_view_name": "HBoxView",
            "box_style": "",
            "children": [
              "IPY_MODEL_6e5dabb005554005ad2aec3942a4907c",
              "IPY_MODEL_68eb788e9a4746bbb7dd3cae6583f33b",
              "IPY_MODEL_3da42d9d3aff414b8b8a3dfff4c28945"
            ],
            "layout": "IPY_MODEL_780f379b7db646438e843e0d385d26e0"
          }
        },
        "1fc4849cfac245019d1d434bdf95c892": {
          "model_module": "@jupyter-widgets/base",
          "model_module_version": "1.2.0",
          "model_name": "LayoutModel",
          "state": {
            "_model_module": "@jupyter-widgets/base",
            "_model_module_version": "1.2.0",
            "_model_name": "LayoutModel",
            "_view_count": null,
            "_view_module": "@jupyter-widgets/base",
            "_view_module_version": "1.2.0",
            "_view_name": "LayoutView",
            "align_content": null,
            "align_items": null,
            "align_self": null,
            "border": null,
            "bottom": null,
            "display": null,
            "flex": null,
            "flex_flow": null,
            "grid_area": null,
            "grid_auto_columns": null,
            "grid_auto_flow": null,
            "grid_auto_rows": null,
            "grid_column": null,
            "grid_gap": null,
            "grid_row": null,
            "grid_template_areas": null,
            "grid_template_columns": null,
            "grid_template_rows": null,
            "height": null,
            "justify_content": null,
            "justify_items": null,
            "left": null,
            "margin": null,
            "max_height": null,
            "max_width": null,
            "min_height": null,
            "min_width": null,
            "object_fit": null,
            "object_position": null,
            "order": null,
            "overflow": null,
            "overflow_x": null,
            "overflow_y": null,
            "padding": null,
            "right": null,
            "top": null,
            "visibility": null,
            "width": null
          }
        },
        "2a1e007f75cf403b96577a74ad1f666c": {
          "model_module": "@jupyter-widgets/controls",
          "model_module_version": "1.5.0",
          "model_name": "DescriptionStyleModel",
          "state": {
            "_model_module": "@jupyter-widgets/controls",
            "_model_module_version": "1.5.0",
            "_model_name": "DescriptionStyleModel",
            "_view_count": null,
            "_view_module": "@jupyter-widgets/base",
            "_view_module_version": "1.2.0",
            "_view_name": "StyleView",
            "description_width": ""
          }
        },
        "2c14d55c21204435ba903b33e063c692": {
          "model_module": "@jupyter-widgets/base",
          "model_module_version": "1.2.0",
          "model_name": "LayoutModel",
          "state": {
            "_model_module": "@jupyter-widgets/base",
            "_model_module_version": "1.2.0",
            "_model_name": "LayoutModel",
            "_view_count": null,
            "_view_module": "@jupyter-widgets/base",
            "_view_module_version": "1.2.0",
            "_view_name": "LayoutView",
            "align_content": null,
            "align_items": null,
            "align_self": null,
            "border": null,
            "bottom": null,
            "display": null,
            "flex": null,
            "flex_flow": null,
            "grid_area": null,
            "grid_auto_columns": null,
            "grid_auto_flow": null,
            "grid_auto_rows": null,
            "grid_column": null,
            "grid_gap": null,
            "grid_row": null,
            "grid_template_areas": null,
            "grid_template_columns": null,
            "grid_template_rows": null,
            "height": null,
            "justify_content": null,
            "justify_items": null,
            "left": null,
            "margin": null,
            "max_height": null,
            "max_width": null,
            "min_height": null,
            "min_width": null,
            "object_fit": null,
            "object_position": null,
            "order": null,
            "overflow": null,
            "overflow_x": null,
            "overflow_y": null,
            "padding": null,
            "right": null,
            "top": null,
            "visibility": null,
            "width": null
          }
        },
        "324745e236c7424fb127794fa778b15e": {
          "model_module": "@jupyter-widgets/base",
          "model_module_version": "1.2.0",
          "model_name": "LayoutModel",
          "state": {
            "_model_module": "@jupyter-widgets/base",
            "_model_module_version": "1.2.0",
            "_model_name": "LayoutModel",
            "_view_count": null,
            "_view_module": "@jupyter-widgets/base",
            "_view_module_version": "1.2.0",
            "_view_name": "LayoutView",
            "align_content": null,
            "align_items": null,
            "align_self": null,
            "border": null,
            "bottom": null,
            "display": null,
            "flex": null,
            "flex_flow": null,
            "grid_area": null,
            "grid_auto_columns": null,
            "grid_auto_flow": null,
            "grid_auto_rows": null,
            "grid_column": null,
            "grid_gap": null,
            "grid_row": null,
            "grid_template_areas": null,
            "grid_template_columns": null,
            "grid_template_rows": null,
            "height": null,
            "justify_content": null,
            "justify_items": null,
            "left": null,
            "margin": null,
            "max_height": null,
            "max_width": null,
            "min_height": null,
            "min_width": null,
            "object_fit": null,
            "object_position": null,
            "order": null,
            "overflow": null,
            "overflow_x": null,
            "overflow_y": null,
            "padding": null,
            "right": null,
            "top": null,
            "visibility": null,
            "width": null
          }
        },
        "3cb9572928fa4bf491562997cf327813": {
          "model_module": "@jupyter-widgets/base",
          "model_module_version": "1.2.0",
          "model_name": "LayoutModel",
          "state": {
            "_model_module": "@jupyter-widgets/base",
            "_model_module_version": "1.2.0",
            "_model_name": "LayoutModel",
            "_view_count": null,
            "_view_module": "@jupyter-widgets/base",
            "_view_module_version": "1.2.0",
            "_view_name": "LayoutView",
            "align_content": null,
            "align_items": null,
            "align_self": null,
            "border": null,
            "bottom": null,
            "display": null,
            "flex": null,
            "flex_flow": null,
            "grid_area": null,
            "grid_auto_columns": null,
            "grid_auto_flow": null,
            "grid_auto_rows": null,
            "grid_column": null,
            "grid_gap": null,
            "grid_row": null,
            "grid_template_areas": null,
            "grid_template_columns": null,
            "grid_template_rows": null,
            "height": null,
            "justify_content": null,
            "justify_items": null,
            "left": null,
            "margin": null,
            "max_height": null,
            "max_width": null,
            "min_height": null,
            "min_width": null,
            "object_fit": null,
            "object_position": null,
            "order": null,
            "overflow": null,
            "overflow_x": null,
            "overflow_y": null,
            "padding": null,
            "right": null,
            "top": null,
            "visibility": null,
            "width": null
          }
        },
        "3da42d9d3aff414b8b8a3dfff4c28945": {
          "model_module": "@jupyter-widgets/controls",
          "model_module_version": "1.5.0",
          "model_name": "HTMLModel",
          "state": {
            "_dom_classes": [],
            "_model_module": "@jupyter-widgets/controls",
            "_model_module_version": "1.5.0",
            "_model_name": "HTMLModel",
            "_view_count": null,
            "_view_module": "@jupyter-widgets/controls",
            "_view_module_version": "1.5.0",
            "_view_name": "HTMLView",
            "description": "",
            "description_tooltip": null,
            "layout": "IPY_MODEL_7be39a42f93d41f8a2285d4d81340848",
            "placeholder": "​",
            "style": "IPY_MODEL_71908a70262d4ff3add3fe295c8c0091",
            "value": " 56000/56000 [00:29&lt;00:00, 1896.87 examples/s]"
          }
        },
        "4535084b58604c2c891142d8c71622eb": {
          "model_module": "@jupyter-widgets/base",
          "model_module_version": "1.2.0",
          "model_name": "LayoutModel",
          "state": {
            "_model_module": "@jupyter-widgets/base",
            "_model_module_version": "1.2.0",
            "_model_name": "LayoutModel",
            "_view_count": null,
            "_view_module": "@jupyter-widgets/base",
            "_view_module_version": "1.2.0",
            "_view_name": "LayoutView",
            "align_content": null,
            "align_items": null,
            "align_self": null,
            "border": null,
            "bottom": null,
            "display": null,
            "flex": null,
            "flex_flow": null,
            "grid_area": null,
            "grid_auto_columns": null,
            "grid_auto_flow": null,
            "grid_auto_rows": null,
            "grid_column": null,
            "grid_gap": null,
            "grid_row": null,
            "grid_template_areas": null,
            "grid_template_columns": null,
            "grid_template_rows": null,
            "height": null,
            "justify_content": null,
            "justify_items": null,
            "left": null,
            "margin": null,
            "max_height": null,
            "max_width": null,
            "min_height": null,
            "min_width": null,
            "object_fit": null,
            "object_position": null,
            "order": null,
            "overflow": null,
            "overflow_x": null,
            "overflow_y": null,
            "padding": null,
            "right": null,
            "top": null,
            "visibility": null,
            "width": null
          }
        },
        "474d146655d047968bca92f221fc1334": {
          "model_module": "@jupyter-widgets/controls",
          "model_module_version": "1.5.0",
          "model_name": "FloatProgressModel",
          "state": {
            "_dom_classes": [],
            "_model_module": "@jupyter-widgets/controls",
            "_model_module_version": "1.5.0",
            "_model_name": "FloatProgressModel",
            "_view_count": null,
            "_view_module": "@jupyter-widgets/controls",
            "_view_module_version": "1.5.0",
            "_view_name": "ProgressView",
            "bar_style": "success",
            "description": "",
            "description_tooltip": null,
            "layout": "IPY_MODEL_d0b0b986d1b14f74af8af7b851b11fbc",
            "max": 1,
            "min": 0,
            "orientation": "horizontal",
            "style": "IPY_MODEL_75a874c5d2db418d953d25f15c5eb662",
            "value": 1
          }
        },
        "49f2398333ab4d51a48d62783fa155a7": {
          "model_module": "@jupyter-widgets/controls",
          "model_module_version": "1.5.0",
          "model_name": "DescriptionStyleModel",
          "state": {
            "_model_module": "@jupyter-widgets/controls",
            "_model_module_version": "1.5.0",
            "_model_name": "DescriptionStyleModel",
            "_view_count": null,
            "_view_module": "@jupyter-widgets/base",
            "_view_module_version": "1.2.0",
            "_view_name": "StyleView",
            "description_width": ""
          }
        },
        "6005dded676d482799293ec7d2418876": {
          "model_module": "@jupyter-widgets/base",
          "model_module_version": "1.2.0",
          "model_name": "LayoutModel",
          "state": {
            "_model_module": "@jupyter-widgets/base",
            "_model_module_version": "1.2.0",
            "_model_name": "LayoutModel",
            "_view_count": null,
            "_view_module": "@jupyter-widgets/base",
            "_view_module_version": "1.2.0",
            "_view_name": "LayoutView",
            "align_content": null,
            "align_items": null,
            "align_self": null,
            "border": null,
            "bottom": null,
            "display": null,
            "flex": null,
            "flex_flow": null,
            "grid_area": null,
            "grid_auto_columns": null,
            "grid_auto_flow": null,
            "grid_auto_rows": null,
            "grid_column": null,
            "grid_gap": null,
            "grid_row": null,
            "grid_template_areas": null,
            "grid_template_columns": null,
            "grid_template_rows": null,
            "height": null,
            "justify_content": null,
            "justify_items": null,
            "left": null,
            "margin": null,
            "max_height": null,
            "max_width": null,
            "min_height": null,
            "min_width": null,
            "object_fit": null,
            "object_position": null,
            "order": null,
            "overflow": null,
            "overflow_x": null,
            "overflow_y": null,
            "padding": null,
            "right": null,
            "top": null,
            "visibility": null,
            "width": null
          }
        },
        "60938d33d21740b1955cd78559cc39a3": {
          "model_module": "@jupyter-widgets/base",
          "model_module_version": "1.2.0",
          "model_name": "LayoutModel",
          "state": {
            "_model_module": "@jupyter-widgets/base",
            "_model_module_version": "1.2.0",
            "_model_name": "LayoutModel",
            "_view_count": null,
            "_view_module": "@jupyter-widgets/base",
            "_view_module_version": "1.2.0",
            "_view_name": "LayoutView",
            "align_content": null,
            "align_items": null,
            "align_self": null,
            "border": null,
            "bottom": null,
            "display": null,
            "flex": null,
            "flex_flow": null,
            "grid_area": null,
            "grid_auto_columns": null,
            "grid_auto_flow": null,
            "grid_auto_rows": null,
            "grid_column": null,
            "grid_gap": null,
            "grid_row": null,
            "grid_template_areas": null,
            "grid_template_columns": null,
            "grid_template_rows": null,
            "height": null,
            "justify_content": null,
            "justify_items": null,
            "left": null,
            "margin": null,
            "max_height": null,
            "max_width": null,
            "min_height": null,
            "min_width": null,
            "object_fit": null,
            "object_position": null,
            "order": null,
            "overflow": null,
            "overflow_x": null,
            "overflow_y": null,
            "padding": null,
            "right": null,
            "top": null,
            "visibility": null,
            "width": null
          }
        },
        "6519c09735ad49adb6adb9493eb146b3": {
          "model_module": "@jupyter-widgets/controls",
          "model_module_version": "1.5.0",
          "model_name": "DescriptionStyleModel",
          "state": {
            "_model_module": "@jupyter-widgets/controls",
            "_model_module_version": "1.5.0",
            "_model_name": "DescriptionStyleModel",
            "_view_count": null,
            "_view_module": "@jupyter-widgets/base",
            "_view_module_version": "1.2.0",
            "_view_name": "StyleView",
            "description_width": ""
          }
        },
        "68eb788e9a4746bbb7dd3cae6583f33b": {
          "model_module": "@jupyter-widgets/controls",
          "model_module_version": "1.5.0",
          "model_name": "FloatProgressModel",
          "state": {
            "_dom_classes": [],
            "_model_module": "@jupyter-widgets/controls",
            "_model_module_version": "1.5.0",
            "_model_name": "FloatProgressModel",
            "_view_count": null,
            "_view_module": "@jupyter-widgets/controls",
            "_view_module_version": "1.5.0",
            "_view_name": "ProgressView",
            "bar_style": "success",
            "description": "",
            "description_tooltip": null,
            "layout": "IPY_MODEL_324745e236c7424fb127794fa778b15e",
            "max": 56000,
            "min": 0,
            "orientation": "horizontal",
            "style": "IPY_MODEL_9a8c91246b6b476db597060831b2d0e8",
            "value": 56000
          }
        },
        "6e066e3f0e824732b016f6ff27728691": {
          "model_module": "@jupyter-widgets/controls",
          "model_module_version": "1.5.0",
          "model_name": "HBoxModel",
          "state": {
            "_dom_classes": [],
            "_model_module": "@jupyter-widgets/controls",
            "_model_module_version": "1.5.0",
            "_model_name": "HBoxModel",
            "_view_count": null,
            "_view_module": "@jupyter-widgets/controls",
            "_view_module_version": "1.5.0",
            "_view_name": "HBoxView",
            "box_style": "",
            "children": [
              "IPY_MODEL_77cbdeb4cd174ac0abcf9c1ac55a2c38",
              "IPY_MODEL_ba38baf24c914345b2460d24d330faa0",
              "IPY_MODEL_e59ccd53f55a4ab9ad038c8b71f037d2"
            ],
            "layout": "IPY_MODEL_3cb9572928fa4bf491562997cf327813"
          }
        },
        "6e5dabb005554005ad2aec3942a4907c": {
          "model_module": "@jupyter-widgets/controls",
          "model_module_version": "1.5.0",
          "model_name": "HTMLModel",
          "state": {
            "_dom_classes": [],
            "_model_module": "@jupyter-widgets/controls",
            "_model_module_version": "1.5.0",
            "_model_name": "HTMLModel",
            "_view_count": null,
            "_view_module": "@jupyter-widgets/controls",
            "_view_module_version": "1.5.0",
            "_view_name": "HTMLView",
            "description": "",
            "description_tooltip": null,
            "layout": "IPY_MODEL_c1709ba4876d4e758e8c50d770862d7c",
            "placeholder": "​",
            "style": "IPY_MODEL_2a1e007f75cf403b96577a74ad1f666c",
            "value": "Map: 100%"
          }
        },
        "70efb02044b54f8883d5cd9a3eae95ac": {
          "model_module": "@jupyter-widgets/controls",
          "model_module_version": "1.5.0",
          "model_name": "HTMLModel",
          "state": {
            "_dom_classes": [],
            "_model_module": "@jupyter-widgets/controls",
            "_model_module_version": "1.5.0",
            "_model_name": "HTMLModel",
            "_view_count": null,
            "_view_module": "@jupyter-widgets/controls",
            "_view_module_version": "1.5.0",
            "_view_name": "HTMLView",
            "description": "",
            "description_tooltip": null,
            "layout": "IPY_MODEL_1fc4849cfac245019d1d434bdf95c892",
            "placeholder": "​",
            "style": "IPY_MODEL_e3908355e55c426a9ca3254021e72a71",
            "value": " 80000/0 [00:01&lt;00:00, 88888.14 examples/s]"
          }
        },
        "71908a70262d4ff3add3fe295c8c0091": {
          "model_module": "@jupyter-widgets/controls",
          "model_module_version": "1.5.0",
          "model_name": "DescriptionStyleModel",
          "state": {
            "_model_module": "@jupyter-widgets/controls",
            "_model_module_version": "1.5.0",
            "_model_name": "DescriptionStyleModel",
            "_view_count": null,
            "_view_module": "@jupyter-widgets/base",
            "_view_module_version": "1.2.0",
            "_view_name": "StyleView",
            "description_width": ""
          }
        },
        "75a874c5d2db418d953d25f15c5eb662": {
          "model_module": "@jupyter-widgets/controls",
          "model_module_version": "1.5.0",
          "model_name": "ProgressStyleModel",
          "state": {
            "_model_module": "@jupyter-widgets/controls",
            "_model_module_version": "1.5.0",
            "_model_name": "ProgressStyleModel",
            "_view_count": null,
            "_view_module": "@jupyter-widgets/base",
            "_view_module_version": "1.2.0",
            "_view_name": "StyleView",
            "bar_color": null,
            "description_width": ""
          }
        },
        "77cbdeb4cd174ac0abcf9c1ac55a2c38": {
          "model_module": "@jupyter-widgets/controls",
          "model_module_version": "1.5.0",
          "model_name": "HTMLModel",
          "state": {
            "_dom_classes": [],
            "_model_module": "@jupyter-widgets/controls",
            "_model_module_version": "1.5.0",
            "_model_name": "HTMLModel",
            "_view_count": null,
            "_view_module": "@jupyter-widgets/controls",
            "_view_module_version": "1.5.0",
            "_view_name": "HTMLView",
            "description": "",
            "description_tooltip": null,
            "layout": "IPY_MODEL_4535084b58604c2c891142d8c71622eb",
            "placeholder": "​",
            "style": "IPY_MODEL_6519c09735ad49adb6adb9493eb146b3",
            "value": "Map: 100%"
          }
        },
        "780f379b7db646438e843e0d385d26e0": {
          "model_module": "@jupyter-widgets/base",
          "model_module_version": "1.2.0",
          "model_name": "LayoutModel",
          "state": {
            "_model_module": "@jupyter-widgets/base",
            "_model_module_version": "1.2.0",
            "_model_name": "LayoutModel",
            "_view_count": null,
            "_view_module": "@jupyter-widgets/base",
            "_view_module_version": "1.2.0",
            "_view_name": "LayoutView",
            "align_content": null,
            "align_items": null,
            "align_self": null,
            "border": null,
            "bottom": null,
            "display": null,
            "flex": null,
            "flex_flow": null,
            "grid_area": null,
            "grid_auto_columns": null,
            "grid_auto_flow": null,
            "grid_auto_rows": null,
            "grid_column": null,
            "grid_gap": null,
            "grid_row": null,
            "grid_template_areas": null,
            "grid_template_columns": null,
            "grid_template_rows": null,
            "height": null,
            "justify_content": null,
            "justify_items": null,
            "left": null,
            "margin": null,
            "max_height": null,
            "max_width": null,
            "min_height": null,
            "min_width": null,
            "object_fit": null,
            "object_position": null,
            "order": null,
            "overflow": null,
            "overflow_x": null,
            "overflow_y": null,
            "padding": null,
            "right": null,
            "top": null,
            "visibility": null,
            "width": null
          }
        },
        "7be39a42f93d41f8a2285d4d81340848": {
          "model_module": "@jupyter-widgets/base",
          "model_module_version": "1.2.0",
          "model_name": "LayoutModel",
          "state": {
            "_model_module": "@jupyter-widgets/base",
            "_model_module_version": "1.2.0",
            "_model_name": "LayoutModel",
            "_view_count": null,
            "_view_module": "@jupyter-widgets/base",
            "_view_module_version": "1.2.0",
            "_view_name": "LayoutView",
            "align_content": null,
            "align_items": null,
            "align_self": null,
            "border": null,
            "bottom": null,
            "display": null,
            "flex": null,
            "flex_flow": null,
            "grid_area": null,
            "grid_auto_columns": null,
            "grid_auto_flow": null,
            "grid_auto_rows": null,
            "grid_column": null,
            "grid_gap": null,
            "grid_row": null,
            "grid_template_areas": null,
            "grid_template_columns": null,
            "grid_template_rows": null,
            "height": null,
            "justify_content": null,
            "justify_items": null,
            "left": null,
            "margin": null,
            "max_height": null,
            "max_width": null,
            "min_height": null,
            "min_width": null,
            "object_fit": null,
            "object_position": null,
            "order": null,
            "overflow": null,
            "overflow_x": null,
            "overflow_y": null,
            "padding": null,
            "right": null,
            "top": null,
            "visibility": null,
            "width": null
          }
        },
        "92016afec5c44045ae2591c5f9c3b5b9": {
          "model_module": "@jupyter-widgets/controls",
          "model_module_version": "1.5.0",
          "model_name": "HBoxModel",
          "state": {
            "_dom_classes": [],
            "_model_module": "@jupyter-widgets/controls",
            "_model_module_version": "1.5.0",
            "_model_name": "HBoxModel",
            "_view_count": null,
            "_view_module": "@jupyter-widgets/controls",
            "_view_module_version": "1.5.0",
            "_view_name": "HBoxView",
            "box_style": "",
            "children": [
              "IPY_MODEL_161df49abe3a400788923db27aebe8bb",
              "IPY_MODEL_474d146655d047968bca92f221fc1334",
              "IPY_MODEL_70efb02044b54f8883d5cd9a3eae95ac"
            ],
            "layout": "IPY_MODEL_6005dded676d482799293ec7d2418876"
          }
        },
        "9a8c91246b6b476db597060831b2d0e8": {
          "model_module": "@jupyter-widgets/controls",
          "model_module_version": "1.5.0",
          "model_name": "ProgressStyleModel",
          "state": {
            "_model_module": "@jupyter-widgets/controls",
            "_model_module_version": "1.5.0",
            "_model_name": "ProgressStyleModel",
            "_view_count": null,
            "_view_module": "@jupyter-widgets/base",
            "_view_module_version": "1.2.0",
            "_view_name": "StyleView",
            "bar_color": null,
            "description_width": ""
          }
        },
        "ba38baf24c914345b2460d24d330faa0": {
          "model_module": "@jupyter-widgets/controls",
          "model_module_version": "1.5.0",
          "model_name": "FloatProgressModel",
          "state": {
            "_dom_classes": [],
            "_model_module": "@jupyter-widgets/controls",
            "_model_module_version": "1.5.0",
            "_model_name": "FloatProgressModel",
            "_view_count": null,
            "_view_module": "@jupyter-widgets/controls",
            "_view_module_version": "1.5.0",
            "_view_name": "ProgressView",
            "bar_style": "success",
            "description": "",
            "description_tooltip": null,
            "layout": "IPY_MODEL_2c14d55c21204435ba903b33e063c692",
            "max": 24000,
            "min": 0,
            "orientation": "horizontal",
            "style": "IPY_MODEL_1625f034d0214dc190808be66e9a9735",
            "value": 24000
          }
        },
        "c1709ba4876d4e758e8c50d770862d7c": {
          "model_module": "@jupyter-widgets/base",
          "model_module_version": "1.2.0",
          "model_name": "LayoutModel",
          "state": {
            "_model_module": "@jupyter-widgets/base",
            "_model_module_version": "1.2.0",
            "_model_name": "LayoutModel",
            "_view_count": null,
            "_view_module": "@jupyter-widgets/base",
            "_view_module_version": "1.2.0",
            "_view_name": "LayoutView",
            "align_content": null,
            "align_items": null,
            "align_self": null,
            "border": null,
            "bottom": null,
            "display": null,
            "flex": null,
            "flex_flow": null,
            "grid_area": null,
            "grid_auto_columns": null,
            "grid_auto_flow": null,
            "grid_auto_rows": null,
            "grid_column": null,
            "grid_gap": null,
            "grid_row": null,
            "grid_template_areas": null,
            "grid_template_columns": null,
            "grid_template_rows": null,
            "height": null,
            "justify_content": null,
            "justify_items": null,
            "left": null,
            "margin": null,
            "max_height": null,
            "max_width": null,
            "min_height": null,
            "min_width": null,
            "object_fit": null,
            "object_position": null,
            "order": null,
            "overflow": null,
            "overflow_x": null,
            "overflow_y": null,
            "padding": null,
            "right": null,
            "top": null,
            "visibility": null,
            "width": null
          }
        },
        "c3656ec94b0e4fd09af68d694d25b933": {
          "model_module": "@jupyter-widgets/base",
          "model_module_version": "1.2.0",
          "model_name": "LayoutModel",
          "state": {
            "_model_module": "@jupyter-widgets/base",
            "_model_module_version": "1.2.0",
            "_model_name": "LayoutModel",
            "_view_count": null,
            "_view_module": "@jupyter-widgets/base",
            "_view_module_version": "1.2.0",
            "_view_name": "LayoutView",
            "align_content": null,
            "align_items": null,
            "align_self": null,
            "border": null,
            "bottom": null,
            "display": null,
            "flex": null,
            "flex_flow": null,
            "grid_area": null,
            "grid_auto_columns": null,
            "grid_auto_flow": null,
            "grid_auto_rows": null,
            "grid_column": null,
            "grid_gap": null,
            "grid_row": null,
            "grid_template_areas": null,
            "grid_template_columns": null,
            "grid_template_rows": null,
            "height": null,
            "justify_content": null,
            "justify_items": null,
            "left": null,
            "margin": null,
            "max_height": null,
            "max_width": null,
            "min_height": null,
            "min_width": null,
            "object_fit": null,
            "object_position": null,
            "order": null,
            "overflow": null,
            "overflow_x": null,
            "overflow_y": null,
            "padding": null,
            "right": null,
            "top": null,
            "visibility": null,
            "width": null
          }
        },
        "c62c23d0cb784dd6928f4eb2d6ea5024": {
          "model_module": "@jupyter-widgets/controls",
          "model_module_version": "1.5.0",
          "model_name": "DescriptionStyleModel",
          "state": {
            "_model_module": "@jupyter-widgets/controls",
            "_model_module_version": "1.5.0",
            "_model_name": "DescriptionStyleModel",
            "_view_count": null,
            "_view_module": "@jupyter-widgets/base",
            "_view_module_version": "1.2.0",
            "_view_name": "StyleView",
            "description_width": ""
          }
        },
        "d0b0b986d1b14f74af8af7b851b11fbc": {
          "model_module": "@jupyter-widgets/base",
          "model_module_version": "1.2.0",
          "model_name": "LayoutModel",
          "state": {
            "_model_module": "@jupyter-widgets/base",
            "_model_module_version": "1.2.0",
            "_model_name": "LayoutModel",
            "_view_count": null,
            "_view_module": "@jupyter-widgets/base",
            "_view_module_version": "1.2.0",
            "_view_name": "LayoutView",
            "align_content": null,
            "align_items": null,
            "align_self": null,
            "border": null,
            "bottom": null,
            "display": null,
            "flex": null,
            "flex_flow": null,
            "grid_area": null,
            "grid_auto_columns": null,
            "grid_auto_flow": null,
            "grid_auto_rows": null,
            "grid_column": null,
            "grid_gap": null,
            "grid_row": null,
            "grid_template_areas": null,
            "grid_template_columns": null,
            "grid_template_rows": null,
            "height": null,
            "justify_content": null,
            "justify_items": null,
            "left": null,
            "margin": null,
            "max_height": null,
            "max_width": null,
            "min_height": null,
            "min_width": null,
            "object_fit": null,
            "object_position": null,
            "order": null,
            "overflow": null,
            "overflow_x": null,
            "overflow_y": null,
            "padding": null,
            "right": null,
            "top": null,
            "visibility": null,
            "width": "20px"
          }
        },
        "e3908355e55c426a9ca3254021e72a71": {
          "model_module": "@jupyter-widgets/controls",
          "model_module_version": "1.5.0",
          "model_name": "DescriptionStyleModel",
          "state": {
            "_model_module": "@jupyter-widgets/controls",
            "_model_module_version": "1.5.0",
            "_model_name": "DescriptionStyleModel",
            "_view_count": null,
            "_view_module": "@jupyter-widgets/base",
            "_view_module_version": "1.2.0",
            "_view_name": "StyleView",
            "description_width": ""
          }
        },
        "e59ccd53f55a4ab9ad038c8b71f037d2": {
          "model_module": "@jupyter-widgets/controls",
          "model_module_version": "1.5.0",
          "model_name": "HTMLModel",
          "state": {
            "_dom_classes": [],
            "_model_module": "@jupyter-widgets/controls",
            "_model_module_version": "1.5.0",
            "_model_name": "HTMLModel",
            "_view_count": null,
            "_view_module": "@jupyter-widgets/controls",
            "_view_module_version": "1.5.0",
            "_view_name": "HTMLView",
            "description": "",
            "description_tooltip": null,
            "layout": "IPY_MODEL_60938d33d21740b1955cd78559cc39a3",
            "placeholder": "​",
            "style": "IPY_MODEL_c62c23d0cb784dd6928f4eb2d6ea5024",
            "value": " 24000/24000 [00:13&lt;00:00, 1414.41 examples/s]"
          }
        }
      }
    }
  },
  "nbformat": 4,
  "nbformat_minor": 0
}